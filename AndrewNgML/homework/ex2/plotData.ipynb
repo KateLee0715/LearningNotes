{
 "cells": [
  {
   "cell_type": "code",
   "execution_count": 4,
   "metadata": {},
   "outputs": [],
   "source": [
    "import matplotlib.pyplot as plt\n",
    "import numpy as np"
   ]
  },
  {
   "cell_type": "code",
   "execution_count": 7,
   "metadata": {},
   "outputs": [],
   "source": [
    "data = np.loadtxt(\"ex2data1.txt\", delimiter = ',')\n",
    "X = data[:, 0 : 2]\n",
    "y = data[:, 2]\n",
    "m = len(y)\n",
    "X = X.reshape(m, 2)"
   ]
  },
  {
   "cell_type": "code",
   "execution_count": 14,
   "metadata": {},
   "outputs": [
    {
     "data": {
      "text/plain": [
       "[<matplotlib.lines.Line2D at 0x220d0af6c50>,\n",
       " <matplotlib.lines.Line2D at 0x220d1057be0>,\n",
       " <matplotlib.lines.Line2D at 0x220d1057d30>,\n",
       " <matplotlib.lines.Line2D at 0x220d1057dd8>,\n",
       " <matplotlib.lines.Line2D at 0x220d1057e80>,\n",
       " <matplotlib.lines.Line2D at 0x220d1057f28>,\n",
       " <matplotlib.lines.Line2D at 0x220d1057fd0>,\n",
       " <matplotlib.lines.Line2D at 0x220d10660b8>,\n",
       " <matplotlib.lines.Line2D at 0x220d1066160>,\n",
       " <matplotlib.lines.Line2D at 0x220d1066208>,\n",
       " <matplotlib.lines.Line2D at 0x220d10662b0>,\n",
       " <matplotlib.lines.Line2D at 0x220d1066358>,\n",
       " <matplotlib.lines.Line2D at 0x220d1066400>,\n",
       " <matplotlib.lines.Line2D at 0x220d10664a8>,\n",
       " <matplotlib.lines.Line2D at 0x220d1066550>,\n",
       " <matplotlib.lines.Line2D at 0x220d10665f8>,\n",
       " <matplotlib.lines.Line2D at 0x220d10666a0>,\n",
       " <matplotlib.lines.Line2D at 0x220d1066748>,\n",
       " <matplotlib.lines.Line2D at 0x220d10667f0>,\n",
       " <matplotlib.lines.Line2D at 0x220d1066898>,\n",
       " <matplotlib.lines.Line2D at 0x220d1066940>,\n",
       " <matplotlib.lines.Line2D at 0x220d10669e8>,\n",
       " <matplotlib.lines.Line2D at 0x220d1066a90>,\n",
       " <matplotlib.lines.Line2D at 0x220d1066b38>,\n",
       " <matplotlib.lines.Line2D at 0x220d1066be0>,\n",
       " <matplotlib.lines.Line2D at 0x220d1066c88>,\n",
       " <matplotlib.lines.Line2D at 0x220d1066d30>,\n",
       " <matplotlib.lines.Line2D at 0x220d1066dd8>,\n",
       " <matplotlib.lines.Line2D at 0x220d1066e80>,\n",
       " <matplotlib.lines.Line2D at 0x220d1066f28>,\n",
       " <matplotlib.lines.Line2D at 0x220d1066fd0>,\n",
       " <matplotlib.lines.Line2D at 0x220d106f0b8>,\n",
       " <matplotlib.lines.Line2D at 0x220d106f160>,\n",
       " <matplotlib.lines.Line2D at 0x220d106f208>,\n",
       " <matplotlib.lines.Line2D at 0x220d106f2b0>,\n",
       " <matplotlib.lines.Line2D at 0x220d106f358>,\n",
       " <matplotlib.lines.Line2D at 0x220d106f400>,\n",
       " <matplotlib.lines.Line2D at 0x220d106f4a8>,\n",
       " <matplotlib.lines.Line2D at 0x220d106f550>,\n",
       " <matplotlib.lines.Line2D at 0x220d106f5f8>]"
      ]
     },
     "execution_count": 14,
     "metadata": {},
     "output_type": "execute_result"
    },
    {
     "data": {
      "image/png": "[encoded data removed]",
      "text/plain": [
       "<Figure size 432x288 with 1 Axes>"
      ]
     },
     "metadata": {
      "needs_background": "light"
     },
     "output_type": "display_data"
    }
   ],
   "source": [
    "pos = np.where(y == 1)\n",
    "neg = np.where(y == 0)\n",
    "plt.plot(X[pos, 0], X[pos, 1], 'k+', linewidth = 10, markersize = 7)\n",
    "plt.plot(X[neg, 0], X[neg, 1], 'ko', markersize = 7, markerfacecolor = 'y')"
   ]
  }
 ],
 "metadata": {
  "kernelspec": {
   "display_name": "Python 3",
   "language": "python",
   "name": "python3"
  },
  "language_info": {
   "codemirror_mode": {
    "name": "ipython",
    "version": 3
   },
   "file_extension": ".py",
   "mimetype": "text/x-python",
   "name": "python",
   "nbconvert_exporter": "python",
   "pygments_lexer": "ipython3",
   "version": "3.7.0"
  }
 },
 "nbformat": 4,
 "nbformat_minor": 4
}
