{
 "cells": [
  {
   "cell_type": "code",
   "execution_count": 1,
   "metadata": {},
   "outputs": [],
   "source": [
    "import numpy as np\n",
    "import matplotlib.pyplot as plt\n",
    "import scipy.optimize as op"
   ]
  },
  {
   "cell_type": "code",
   "execution_count": 38,
   "metadata": {},
   "outputs": [],
   "source": [
    "data = np.loadtxt(\"ex2data2.txt\", delimiter = ',')\n",
    "X = data[:, 0 : 2]\n",
    "y = data[:, 2]\n",
    "m = len(y)\n",
    "X = X.reshape(m, 2)\n",
    "y = y.reshape(m, 1)"
   ]
  },
  {
   "cell_type": "code",
   "execution_count": 39,
   "metadata": {},
   "outputs": [],
   "source": [
    "def plotData(X, y):\n",
    "    pos = np.where(y == 1)\n",
    "    neg = np.where(y == 0)\n",
    "    plt.plot(X[pos, 0], X[pos, 1], 'k+', markersize = 8, linewidth = 10)\n",
    "    plt.plot(X[neg, 0], X[neg, 1], 'ko', markersize = 8, markerfacecolor = 'y')"
   ]
  },
  {
   "cell_type": "code",
   "execution_count": 40,
   "metadata": {},
   "outputs": [
    {
     "data": {
      "image/png": "[encoded data removed]",
      "text/plain": [
       "<Figure size 432x288 with 1 Axes>"
      ]
     },
     "metadata": {
      "needs_background": "light"
     },
     "output_type": "display_data"
    }
   ],
   "source": [
    "plotData(X,y)"
   ]
  },
  {
   "cell_type": "code",
   "execution_count": 41,
   "metadata": {},
   "outputs": [],
   "source": [
    "def mapFeature(X1, X2):\n",
    "    m = X1.shape[0]\n",
    "    degree = 6\n",
    "    out = np.ones((m, 1))\n",
    "    cnt = 1\n",
    "    for i in range(1, degree + 1):\n",
    "        for j in range(i + 1):\n",
    "            x = np.power(X1, i - j) * np.power(X2, j)\n",
    "            out = np.hstack((out, x))\n",
    "            cnt += 1\n",
    "    out = out.reshape(m, cnt)\n",
    "    return out"
   ]
  },
  {
   "cell_type": "code",
   "execution_count": 42,
   "metadata": {},
   "outputs": [
    {
     "data": {
      "text/plain": [
       "(118, 28)"
      ]
     },
     "execution_count": 42,
     "metadata": {},
     "output_type": "execute_result"
    }
   ],
   "source": [
    "X1 = data[:, 0].reshape(m, 1)\n",
    "X2 = data[:, 1].reshape(m, 1)\n",
    "out = mapFeature(X1, X2)\n",
    "out.shape"
   ]
  },
  {
   "cell_type": "code",
   "execution_count": 22,
   "metadata": {},
   "outputs": [],
   "source": [
    "def sigmoid(z):\n",
    "    g = 1/ (1 + np.exp(-z))\n",
    "    return g"
   ]
  },
  {
   "cell_type": "code",
   "execution_count": 50,
   "metadata": {},
   "outputs": [],
   "source": [
    "def costFunctionReg(theta, X, y, lamda):\n",
    "    m, n = X.shape\n",
    "    theta = theta.reshape(n, 1)\n",
    "    tmp1 = np.log(sigmoid(np.dot(X, theta)))\n",
    "    s1 = np.dot(y.T, tmp1)\n",
    "    tmp2 = np.log(1 - sigmoid(np.dot(X, theta)))\n",
    "    s2 = np.dot((1 - y).T, tmp2)\n",
    "    s3 = np.dot(theta.T, theta) - theta[0,0] * theta[0,0]\n",
    "    cost = -1 / m * (s1 + s2) + lamda / 2 / m * s3\n",
    "    return cost"
   ]
  },
  {
   "cell_type": "code",
   "execution_count": 51,
   "metadata": {},
   "outputs": [],
   "source": [
    "def gradientReg(theta, X, y, lamda):\n",
    "    m, n = X.shape\n",
    "    theta = theta.reshape(n, 1)\n",
    "    s1 = np.dot(X.T, sigmoid(np.dot(X, theta)) - y)\n",
    "    s2 = theta\n",
    "    s2[0,0] = 0\n",
    "    gradient = 1 / m * s1 + lamda / m * s2\n",
    "    return gradient"
   ]
  },
  {
   "cell_type": "code",
   "execution_count": 52,
   "metadata": {},
   "outputs": [
    {
     "data": {
      "text/plain": [
       "array([8.47457627e-03, 1.87880932e-02, 7.77711864e-05, 5.03446395e-02,\n",
       "       1.15013308e-02])"
      ]
     },
     "execution_count": 52,
     "metadata": {},
     "output_type": "execute_result"
    }
   ],
   "source": [
    "initial_theta = np.zeros(out.shape[1])\n",
    "lamda = 1\n",
    "cost = costFunctionReg(initial_theta, out, y, lamda)\n",
    "grad = gradientReg(initial_theta, out, y, lamda)\n",
    "grad[0:5, 0]"
   ]
  },
  {
   "cell_type": "code",
   "execution_count": 53,
   "metadata": {},
   "outputs": [],
   "source": [
    "theta = np.zeros(out.shape[1])\n",
    "result = op.minimize(fun = costFunctionReg, x0 = theta, args = (out, y, lamda), method = 'TNC', jac = gradientReg)\n",
    "theta = result['x']"
   ]
  },
  {
   "cell_type": "code",
   "execution_count": 54,
   "metadata": {},
   "outputs": [],
   "source": [
    "def plotDecisionBoundary(theta, X, y):\n",
    "    plotData(X[:, 1 : 3], y)\n",
    "    \n",
    "    if X.shape[1] <= 3:\n",
    "        x1 = np.array([np.amin(X[:,1]) - 2, np.amax(X[:,1]) + 2])\n",
    "        x2 = -(theta[0] + theta[1] * x1) / theta[2]\n",
    "        plt.plot(x1, x2)\n",
    "    else:\n",
    "        u = np.linspace(-1, 1.5, 50)\n",
    "        v = np.linspace(-1, 1.5, 50)\n",
    "        z = np.zeros((len(u), len(v)))\n",
    "        \n",
    "        for i in range(len(u)):\n",
    "            for j in range(len(v)):\n",
    "                z[i, j] = np.dot(mapFeature(np.array([u[i]]).reshape(1,1), np.array([v[j]]).reshape(1,1)), theta)\n",
    "        plt.contour(u, v, z.T, [0])"
   ]
  },
  {
   "cell_type": "code",
   "execution_count": 55,
   "metadata": {},
   "outputs": [
    {
     "data": {
      "image/png": "[encoded data removed]",
      "text/plain": [
       "<Figure size 432x288 with 1 Axes>"
      ]
     },
     "metadata": {
      "needs_background": "light"
     },
     "output_type": "display_data"
    }
   ],
   "source": [
    "plotDecisionBoundary(theta, out, y)"
   ]
  },
  {
   "cell_type": "code",
   "execution_count": 56,
   "metadata": {},
   "outputs": [],
   "source": [
    "def predict(theta, X):\n",
    "    m = X.shape[0]\n",
    "    p = np.zeros((m, 1))\n",
    "    \n",
    "    p = np.round(sigmoid(np.dot(X, theta)))\n",
    "    return p"
   ]
  },
  {
   "cell_type": "code",
   "execution_count": 57,
   "metadata": {},
   "outputs": [
    {
     "name": "stdout",
     "output_type": "stream",
     "text": [
      "83.05084745762711\n"
     ]
    }
   ],
   "source": [
    "p = predict(theta, out).reshape(m,1)\n",
    "print(np.mean(p == y) * 100)"
   ]
  }
 ],
 "metadata": {
  "kernelspec": {
   "display_name": "Python 3",
   "language": "python",
   "name": "python3"
  },
  "language_info": {
   "codemirror_mode": {
    "name": "ipython",
    "version": 3
   },
   "file_extension": ".py",
   "mimetype": "text/x-python",
   "name": "python",
   "nbconvert_exporter": "python",
   "pygments_lexer": "ipython3",
   "version": "3.7.0"
  }
 },
 "nbformat": 4,
 "nbformat_minor": 4
}
