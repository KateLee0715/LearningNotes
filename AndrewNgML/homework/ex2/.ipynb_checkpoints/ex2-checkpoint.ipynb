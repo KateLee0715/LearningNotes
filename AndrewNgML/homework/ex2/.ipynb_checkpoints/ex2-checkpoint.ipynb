{
 "cells": [
  {
   "cell_type": "code",
   "execution_count": 39,
   "metadata": {},
   "outputs": [],
   "source": [
    "import matplotlib.pyplot as plt\n",
    "import numpy as np\n",
    "import scipy.optimize as op"
   ]
  },
  {
   "cell_type": "code",
   "execution_count": 23,
   "metadata": {},
   "outputs": [],
   "source": [
    "data = np.loadtxt(\"ex2data1.txt\", delimiter = ',')\n",
    "X = data[:, 0 : 2]\n",
    "y = data[:, 2]\n",
    "m = len(y)\n",
    "X = np.concatenate((np.ones((m, 1)), X.reshape(m, 2)), axis = 1)\n",
    "y = y.reshape(m, 1)"
   ]
  },
  {
   "cell_type": "code",
   "execution_count": 12,
   "metadata": {},
   "outputs": [],
   "source": [
    "def sigmoid(z):\n",
    "    g = 1 / (1 + np.exp(-z))\n",
    "    return g"
   ]
  },
  {
   "cell_type": "code",
   "execution_count": 19,
   "metadata": {},
   "outputs": [
    {
     "data": {
      "text/plain": [
       "0.5"
      ]
     },
     "execution_count": 19,
     "metadata": {},
     "output_type": "execute_result"
    }
   ],
   "source": [
    "sigmoid(0)"
   ]
  },
  {
   "cell_type": "code",
   "execution_count": 61,
   "metadata": {},
   "outputs": [],
   "source": [
    "def costFunction(theta, X, y):\n",
    "    theta = theta.reshape(3, 1)\n",
    "    S1 = np.dot(y.T, np.log(sigmoid(np.dot(X, theta))))\n",
    "    S2 = np.dot((1 - y).T, np.log(1 - sigmoid(np.dot(X, theta))))\n",
    "    cost = -1 / m * (S1 + S2)\n",
    "    return cost"
   ]
  },
  {
   "cell_type": "code",
   "execution_count": 59,
   "metadata": {},
   "outputs": [],
   "source": [
    "def gradient(theta, X, y):\n",
    "    theta = theta.reshape(3, 1)\n",
    "    tmp = sigmoid(np.dot(X, theta)) - y\n",
    "    gradient = 1 / m * np.dot(X.T, tmp)\n",
    "    return gradient"
   ]
  },
  {
   "cell_type": "code",
   "execution_count": 38,
   "metadata": {},
   "outputs": [
    {
     "name": "stdout",
     "output_type": "stream",
     "text": [
      "[[0.21833019]]\n",
      "[[0.04290299]\n",
      " [2.56623412]\n",
      " [2.64679737]]\n"
     ]
    }
   ],
   "source": [
    "test_theta = np.array([-24, 0.2, 0.2]).reshape(3, 1)\n",
    "cost, gradient = costFunction(X, y, test_theta)\n",
    "print(cost)\n",
    "print(gradient)"
   ]
  },
  {
   "cell_type": "code",
   "execution_count": 69,
   "metadata": {},
   "outputs": [],
   "source": [
    "init_theta = np.zeros(3)\n",
    "result = op.minimize(fun = costFunction, x0 = init_theta, args = (X, y), method = 'TNC', jac = gradient)\n",
    "learned_theta = result['x']"
   ]
  },
  {
   "cell_type": "code",
   "execution_count": 73,
   "metadata": {},
   "outputs": [
    {
     "name": "stdout",
     "output_type": "stream",
     "text": [
      "[0.77629062]\n"
     ]
    }
   ],
   "source": [
    "predictX = np.array([1, 45, 85]).reshape(1, 3)\n",
    "res = sigmoid(np.dot(predictX, learned_theta))\n",
    "print(res)"
   ]
  },
  {
   "cell_type": "code",
   "execution_count": 74,
   "metadata": {},
   "outputs": [],
   "source": [
    "def predict(theta, X):\n",
    "    m = X.shape[0]\n",
    "    p = np.zeros((m, 1))\n",
    "    \n",
    "    p = np.round(sigmoid(np.dot(X, theta)))\n",
    "    return p"
   ]
  },
  {
   "cell_type": "code",
   "execution_count": 92,
   "metadata": {},
   "outputs": [
    {
     "name": "stdout",
     "output_type": "stream",
     "text": [
      "89.0\n"
     ]
    }
   ],
   "source": [
    "p = predict(learned_theta, X).reshape(m, 1)\n",
    "print(np.mean(p == y) * 100)"
   ]
  },
  {
   "cell_type": "code",
   "execution_count": 97,
   "metadata": {},
   "outputs": [],
   "source": [
    "def plotDecisionBoundary(theta, X, y):\n",
    "    plotData(X[:, 1 : 3], y)\n",
    "    \n",
    "    if X.shape[1] <= 3:\n",
    "        x1 = np.array([np.amin(X[:,1]) - 2, np.amax(X[:,1]) + 2])\n",
    "        x2 = -(theta[0] + theta[1] * x1) / theta[2]\n",
    "        plt.plot(x1, x2)\n",
    "    else:\n",
    "        u = np.linspace(-1, 1.5, 50)\n",
    "        v = np.linspace(-1, 1.5, 50)\n",
    "        z = np.zeros((len(u), len(v)))\n",
    "        \n",
    "        for i in range(len(u)):\n",
    "            for j in range(len(v)):\n",
    "                z[i, j] = np.dot(mapFeature(np.array([u[i]]).reshape(1,1), np.array([v[j]]).reshape(1,1)), theta)\n",
    "        plt.contour(u, v, z.T, [0])"
   ]
  },
  {
   "cell_type": "code",
   "execution_count": 95,
   "metadata": {},
   "outputs": [],
   "source": [
    "def plotData(X, y):\n",
    "    pos = np.where(y == 1)\n",
    "    neg = np.where(y == 0)\n",
    "    plt.plot(X[pos, 0], X[pos, 1], 'k+', markersize = 8, linewidth = 10)\n",
    "    plt.plot(X[neg, 0], X[neg, 1], 'ko', markersize = 8, markerfacecolor = 'y')"
   ]
  },
  {
   "cell_type": "code",
   "execution_count": 98,
   "metadata": {},
   "outputs": [
    {
     "data": {
      "image/png": "[encoded data removed]",
      "text/plain": [
       "<Figure size 432x288 with 1 Axes>"
      ]
     },
     "metadata": {
      "needs_background": "light"
     },
     "output_type": "display_data"
    }
   ],
   "source": [
    "plotDecisionBoundary(learned_theta, X, y)"
   ]
  }
 ],
 "metadata": {
  "kernelspec": {
   "display_name": "Python 3",
   "language": "python",
   "name": "python3"
  },
  "language_info": {
   "codemirror_mode": {
    "name": "ipython",
    "version": 3
   },
   "file_extension": ".py",
   "mimetype": "text/x-python",
   "name": "python",
   "nbconvert_exporter": "python",
   "pygments_lexer": "ipython3",
   "version": "3.7.0"
  }
 },
 "nbformat": 4,
 "nbformat_minor": 4
}
