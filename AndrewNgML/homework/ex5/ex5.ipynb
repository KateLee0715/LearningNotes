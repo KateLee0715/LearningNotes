{
 "cells": [
  {
   "cell_type": "code",
   "execution_count": 3,
   "metadata": {},
   "outputs": [],
   "source": [
    "import numpy as np\n",
    "import matplotlib.pyplot as plt\n",
    "import scipy.io as scio\n",
    "import scipy.optimize as opt"
   ]
  },
  {
   "cell_type": "code",
   "execution_count": 4,
   "metadata": {},
   "outputs": [],
   "source": [
    "data = scio.loadmat(\"ex5data1.mat\")\n",
    "X = data['X']\n",
    "y = data['y']\n",
    "Xval = data['Xval']\n",
    "yval = data['yval']\n",
    "Xtest = data['Xtest']\n",
    "ytest = data['ytest']"
   ]
  },
  {
   "cell_type": "code",
   "execution_count": 5,
   "metadata": {},
   "outputs": [
    {
     "data": {
      "image/png": "[encoded data removed]",
      "text/plain": [
       "<Figure size 432x288 with 1 Axes>"
      ]
     },
     "metadata": {
      "needs_background": "light"
     },
     "output_type": "display_data"
    }
   ],
   "source": [
    "fig = plt.plot(X, y, 'rx', markersize = 10, linewidth = 1.5)"
   ]
  },
  {
   "cell_type": "code",
   "execution_count": 6,
   "metadata": {},
   "outputs": [],
   "source": [
    "def linearRegCostFunction(Theta, X, y, Lambda):\n",
    "    m, n = X.shape\n",
    "    Theta = Theta.reshape(n+1, 1)\n",
    "    X = np.hstack((np.ones((m, 1)), X))\n",
    "    s1 = np.dot(X, Theta) - y\n",
    "    s2 = np.dot(s1.T, s1)\n",
    "    s3 = np.dot(Theta.T, Theta) - Theta[0, 0] * Theta[0, 0]\n",
    "    J = 1 / 2 / m * s2 + Lambda / 2 / m * s3\n",
    "    return J"
   ]
  },
  {
   "cell_type": "code",
   "execution_count": 7,
   "metadata": {},
   "outputs": [
    {
     "data": {
      "text/plain": [
       "array([[303.99319222]])"
      ]
     },
     "execution_count": 7,
     "metadata": {},
     "output_type": "execute_result"
    }
   ],
   "source": [
    "theta = np.array([1, 1]).reshape(2,1)\n",
    "linearRegCostFunction(theta, X, y, 1)"
   ]
  },
  {
   "cell_type": "code",
   "execution_count": 8,
   "metadata": {},
   "outputs": [],
   "source": [
    "def linearRegGradient(Theta, X, y, Lambda):\n",
    "    m, n = X.shape\n",
    "    Theta = Theta.reshape(n+1, 1)\n",
    "    X = np.hstack((np.ones((m, 1)), X))\n",
    "    s1 = np.dot(X, Theta) - y\n",
    "    s2 = np.dot(X.T, s1)\n",
    "    s3 = Theta\n",
    "    s3[0, 0] = 0\n",
    "    grad = 1 / m * s2 + Lambda / m * s3\n",
    "    return grad.ravel()"
   ]
  },
  {
   "cell_type": "code",
   "execution_count": 9,
   "metadata": {},
   "outputs": [
    {
     "data": {
      "text/plain": [
       "array([-15.30301567, 598.25074417])"
      ]
     },
     "execution_count": 9,
     "metadata": {},
     "output_type": "execute_result"
    }
   ],
   "source": [
    "linearRegGradient(theta, X, y, 1)"
   ]
  },
  {
   "cell_type": "code",
   "execution_count": 10,
   "metadata": {},
   "outputs": [],
   "source": [
    "def trainLinearReg(X, y, Lambda):\n",
    "    n = X.shape[1] + 1\n",
    "    Theta = np.zeros(n)\n",
    "    Theta = Theta.ravel()\n",
    "    Theta = opt.fmin_cg(f = linearRegCostFunction, x0 = Theta, fprime = linearRegGradient, args = (X, y, Lambda), maxiter = 200, disp = False)\n",
    "    return Theta.reshape(n, 1)"
   ]
  },
  {
   "cell_type": "code",
   "execution_count": 11,
   "metadata": {},
   "outputs": [
    {
     "data": {
      "text/plain": [
       "[<matplotlib.lines.Line2D at 0x209ff43be48>]"
      ]
     },
     "execution_count": 11,
     "metadata": {},
     "output_type": "execute_result"
    },
    {
     "data": {
      "image/png": "[encoded data removed]",
      "text/plain": [
       "<Figure size 432x288 with 1 Axes>"
      ]
     },
     "metadata": {
      "needs_background": "light"
     },
     "output_type": "display_data"
    }
   ],
   "source": [
    "Theta = trainLinearReg(X, y, 0)\n",
    "plt.plot(X, y, 'rx', markersize = 10, linewidth = 1.5)\n",
    "m = X.shape[0]\n",
    "h = np.dot(np.hstack((np.ones((m, 1)), X)), Theta)\n",
    "plt.plot(X, h, 'b-', linewidth = 2)"
   ]
  },
  {
   "cell_type": "code",
   "execution_count": 12,
   "metadata": {},
   "outputs": [],
   "source": [
    "def learningCurve(X, y, Xval, yval, Lambda):\n",
    "    m, n = X.shape\n",
    "    error_train = np.zeros(m)\n",
    "    error_val = np.zeros(m)\n",
    "    for i in range(m):\n",
    "        theta = trainLinearReg(X[0 : i + 1, :], y[0 : i + 1, :], Lambda)\n",
    "        error_train[i] = linearRegCostFunction(theta, X[0 : i + 1, :], y[0 : i + 1, :], 0)\n",
    "        error_val[i] = linearRegCostFunction(theta, Xval, yval, 0)\n",
    "    return error_train, error_val"
   ]
  },
  {
   "cell_type": "code",
   "execution_count": 13,
   "metadata": {},
   "outputs": [],
   "source": [
    "error_train, error_val = learningCurve(X, y, Xval, yval, 0)"
   ]
  },
  {
   "cell_type": "code",
   "execution_count": 14,
   "metadata": {},
   "outputs": [
    {
     "data": {
      "text/plain": [
       "(0.0, 13.0, 0.0, 150.0)"
      ]
     },
     "execution_count": 14,
     "metadata": {},
     "output_type": "execute_result"
    },
    {
     "data": {
      "image/png": "[encoded data removed]",
      "text/plain": [
       "<Figure size 432x288 with 1 Axes>"
      ]
     },
     "metadata": {
      "needs_background": "light"
     },
     "output_type": "display_data"
    }
   ],
   "source": [
    "plt.plot(range(1, m + 1), error_train, range(1, m + 1), error_val)\n",
    "plt.legend(['Train', 'Cross Validation'])\n",
    "plt.xlabel(\"Number of training examples\")\n",
    "plt.ylabel(\"Error\")\n",
    "plt.axis([0, 13, 0, 150])"
   ]
  },
  {
   "cell_type": "code",
   "execution_count": 15,
   "metadata": {},
   "outputs": [],
   "source": [
    "def polyFeatures(X, p):\n",
    "    m = X.shape[0]\n",
    "    X_poly = np.zeros((m, p))\n",
    "    for i in range(1, p + 1):\n",
    "        X_poly[:,i-1] = np.power(X, i).reshape(-1)\n",
    "    return X_poly"
   ]
  },
  {
   "cell_type": "code",
   "execution_count": 16,
   "metadata": {},
   "outputs": [
    {
     "data": {
      "text/plain": [
       "(12, 8)"
      ]
     },
     "execution_count": 16,
     "metadata": {},
     "output_type": "execute_result"
    }
   ],
   "source": [
    "X_poly = polyFeatures(X, 8)\n",
    "X_poly.shape"
   ]
  },
  {
   "cell_type": "code",
   "execution_count": 17,
   "metadata": {},
   "outputs": [],
   "source": [
    "def featureNormalize(X):\n",
    "    mu = np.mean(X, axis = 0)\n",
    "    sigma = np.std(X - mu, axis = 0)\n",
    "    X_norm = (X - mu) / sigma\n",
    "    return X_norm, mu, sigma"
   ]
  },
  {
   "cell_type": "code",
   "execution_count": 18,
   "metadata": {},
   "outputs": [],
   "source": [
    "def plotFit(X, mu, sigma, theta, p):\n",
    "    x = np.arange(np.amin(X) - 15, np.amax(X) + 25, 0.05)\n",
    "    m = x.shape[0]\n",
    "    x_poly = polyFeatures(x, p)\n",
    "    x_norm = (x_poly - mu) / sigma\n",
    "    h = np.dot(np.hstack((np.ones((m, 1)),x_norm)), theta)\n",
    "    plt.plot(x, h, '--', linewidth = 2)\n",
    "    return"
   ]
  },
  {
   "cell_type": "code",
   "execution_count": 37,
   "metadata": {},
   "outputs": [],
   "source": [
    "p = 8\n",
    "X_poly = polyFeatures(X, p)\n",
    "[X_norm, mu, sigma] = featureNormalize(X_poly)\n",
    "Lambda = 1\n",
    "Theta = trainLinearReg(X_norm, y, Lambda)"
   ]
  },
  {
   "cell_type": "code",
   "execution_count": 38,
   "metadata": {},
   "outputs": [
    {
     "data": {
      "image/png": "[encoded data removed]",
      "text/plain": [
       "<Figure size 432x288 with 1 Axes>"
      ]
     },
     "metadata": {
      "needs_background": "light"
     },
     "output_type": "display_data"
    }
   ],
   "source": [
    "plt.plot(X, y, 'rx', markersize = 10, linewidth = 1.5)\n",
    "plotFit(X, mu, sigma, Theta, p)"
   ]
  },
  {
   "cell_type": "code",
   "execution_count": 39,
   "metadata": {},
   "outputs": [],
   "source": [
    "Xval_poly = polyFeatures(Xval, p)\n",
    "Xval_norm = (Xval_poly - mu) / sigma\n",
    "Xtest_poly = polyFeatures(Xtest, p)\n",
    "Xtest_norm = (Xtest_poly - mu) / sigma"
   ]
  },
  {
   "cell_type": "code",
   "execution_count": 40,
   "metadata": {},
   "outputs": [],
   "source": [
    "error_train, error_val = learningCurve(X_norm, y, Xval_norm, yval, Lambda)"
   ]
  },
  {
   "cell_type": "code",
   "execution_count": 41,
   "metadata": {},
   "outputs": [
    {
     "data": {
      "text/plain": [
       "(0.0, 13.0, 0.0, 150.0)"
      ]
     },
     "execution_count": 41,
     "metadata": {},
     "output_type": "execute_result"
    },
    {
     "data": {
      "image/png": "[encoded data removed]",
      "text/plain": [
       "<Figure size 432x288 with 1 Axes>"
      ]
     },
     "metadata": {
      "needs_background": "light"
     },
     "output_type": "display_data"
    }
   ],
   "source": [
    "plt.plot(range(1, m + 1), error_train, range(1, m + 1), error_val)\n",
    "plt.legend(['Train', 'Cross Validation'])\n",
    "plt.xlabel(\"Number of training examples\")\n",
    "plt.ylabel(\"Error\")\n",
    "plt.axis([0, 13, 0, 150])"
   ]
  },
  {
   "cell_type": "code",
   "execution_count": 45,
   "metadata": {},
   "outputs": [],
   "source": [
    "def validationCurve(X, y, Xval, yval):\n",
    "    lambda_vec = np.array([0, 0.001, 0.003, 0.01, 0.03, 0.1, 0.3, 1, 3, 10])\n",
    "    m = lambda_vec.shape[0]\n",
    "    error_train = np.zeros(m)\n",
    "    error_val = np.zeros(m)\n",
    "    for i in range(m):\n",
    "        theta = trainLinearReg(X, y, lambda_vec[i])\n",
    "        error_train[i] = linearRegCostFunction(theta, X, y, 0)\n",
    "        error_val[i] = linearRegCostFunction(theta, Xval, yval, 0)\n",
    "    return error_train, error_val, lambda_vec"
   ]
  },
  {
   "cell_type": "code",
   "execution_count": 46,
   "metadata": {},
   "outputs": [],
   "source": [
    "error_train2, error_val2, lambda_vec= validationCurve(X_norm, y, Xval_norm, yval)"
   ]
  },
  {
   "cell_type": "code",
   "execution_count": 49,
   "metadata": {},
   "outputs": [
    {
     "data": {
      "text/plain": [
       "Text(0, 0.5, 'Error')"
      ]
     },
     "execution_count": 49,
     "metadata": {},
     "output_type": "execute_result"
    },
    {
     "data": {
      "image/png": "[encoded data removed]",
      "text/plain": [
       "<Figure size 432x288 with 1 Axes>"
      ]
     },
     "metadata": {
      "needs_background": "light"
     },
     "output_type": "display_data"
    }
   ],
   "source": [
    "plt.plot(lambda_vec, error_train2, lambda_vec, error_val2)\n",
    "plt.legend(['Train', 'Cross Validation'])\n",
    "plt.xlabel('lambda')\n",
    "plt.ylabel('Error')"
   ]
  },
  {
   "cell_type": "code",
   "execution_count": 54,
   "metadata": {},
   "outputs": [
    {
     "name": "stdout",
     "output_type": "stream",
     "text": [
      "[[3.57202662]]\n"
     ]
    }
   ],
   "source": [
    "best_lambda = lambda_vec[np.argmin(error_val2)]\n",
    "theta = trainLinearReg(X_norm, y, best_lambda)\n",
    "error_test = linearRegCostFunction(theta, Xtest_norm, ytest, 0)\n",
    "print(error_test)"
   ]
  },
  {
   "cell_type": "code",
   "execution_count": 57,
   "metadata": {},
   "outputs": [],
   "source": [
    "def learningRandomCurve(X, y, Xval, yval, Lambda, times):\n",
    "    m = X.shape[0]\n",
    "    error_train = np.zeros(m)\n",
    "    error_val = np.zeros(m)\n",
    "    for i in range(m):\n",
    "        train_sum = 0\n",
    "        val_sum = 0\n",
    "        for j in range(times):\n",
    "            ran_indices = np.random.choice(np.arange(m), i + 1)\n",
    "            theta = trainLinearReg(X[ran_indices, :], y[ran_indices, :], Lambda)\n",
    "            train_sum += linearRegCostFunction(theta, X[ran_indices, :], y[ran_indices, :], 0)\n",
    "            val_sum += linearRegCostFunction(theta, Xval, yval, 0)\n",
    "        error_train[i] = train_sum / times\n",
    "        error_val[i] = val_sum / times\n",
    "    return error_train, error_val"
   ]
  },
  {
   "cell_type": "code",
   "execution_count": 68,
   "metadata": {},
   "outputs": [],
   "source": [
    "error_train3, error_val3 = learningRandomCurve(X_norm, y, Xval_norm, yval, 0.01, 50)"
   ]
  },
  {
   "cell_type": "code",
   "execution_count": 69,
   "metadata": {},
   "outputs": [
    {
     "data": {
      "text/plain": [
       "(0.0, 13.0, 0.0, 150.0)"
      ]
     },
     "execution_count": 69,
     "metadata": {},
     "output_type": "execute_result"
    },
    {
     "data": {
      "image/png": "[encoded data removed]",
      "text/plain": [
       "<Figure size 432x288 with 1 Axes>"
      ]
     },
     "metadata": {
      "needs_background": "light"
     },
     "output_type": "display_data"
    }
   ],
   "source": [
    "plt.plot(range(1, m + 1), error_train3, range(1, m + 1), error_val3)\n",
    "plt.legend(['Train', 'Cross Validation'])\n",
    "plt.xlabel(\"Number of training examples\")\n",
    "plt.ylabel(\"Error\")\n",
    "plt.axis([0, 13, 0, 150])"
   ]
  }
 ],
 "metadata": {
  "kernelspec": {
   "display_name": "Python 3",
   "language": "python",
   "name": "python3"
  },
  "language_info": {
   "codemirror_mode": {
    "name": "ipython",
    "version": 3
   },
   "file_extension": ".py",
   "mimetype": "text/x-python",
   "name": "python",
   "nbconvert_exporter": "python",
   "pygments_lexer": "ipython3",
   "version": "3.7.0"
  }
 },
 "nbformat": 4,
 "nbformat_minor": 4
}
