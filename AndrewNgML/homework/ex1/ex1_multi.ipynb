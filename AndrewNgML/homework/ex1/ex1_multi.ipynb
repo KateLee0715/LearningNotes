{
 "cells": [
  {
   "cell_type": "code",
   "execution_count": 1,
   "metadata": {},
   "outputs": [],
   "source": [
    "import matplotlib.pyplot as plt\n",
    "import numpy as np"
   ]
  },
  {
   "cell_type": "code",
   "execution_count": 77,
   "metadata": {},
   "outputs": [],
   "source": [
    "data = np.loadtxt(\"ex1data2.txt\", delimiter = ',')\n",
    "X = data[:, 0:2]\n",
    "Y = data[:, 2]\n",
    "m = len(Y)\n",
    "X = X.reshape(m, 2)\n",
    "Y = Y.reshape(m, 1)"
   ]
  },
  {
   "cell_type": "code",
   "execution_count": 50,
   "metadata": {},
   "outputs": [],
   "source": [
    "theta = np.zeros((3, 1))"
   ]
  },
  {
   "cell_type": "code",
   "execution_count": 51,
   "metadata": {},
   "outputs": [],
   "source": [
    "def featureNormalize(X):\n",
    "    X_norm = X\n",
    "    mu = np.mean(X, axis = 0)\n",
    "    sigma = np.std(X, axis = 0)\n",
    "    X_norm = (X - mu) / sigma\n",
    "    return X_norm, mu, sigma"
   ]
  },
  {
   "cell_type": "code",
   "execution_count": 28,
   "metadata": {},
   "outputs": [],
   "source": [
    "def computeCostMulti(X, y, theta):\n",
    "    m = len(y)\n",
    "    predictH = np.dot(X, theta)\n",
    "    S = np.dot((predictH - y).T, (predictH - y))\n",
    "    res = S / 2 / m\n",
    "    return res"
   ]
  },
  {
   "cell_type": "code",
   "execution_count": 52,
   "metadata": {},
   "outputs": [
    {
     "name": "stdout",
     "output_type": "stream",
     "text": [
      "65591548106.45744\n"
     ]
    }
   ],
   "source": [
    "X_norm, mu, sigma = featureNormalize(X)\n",
    "X = np.concatenate((np.ones((m, 1)), X_norm), axis = 1)\n",
    "cost = computeCostMulti(X, Y, theta)\n",
    "print(cost)"
   ]
  },
  {
   "cell_type": "code",
   "execution_count": 39,
   "metadata": {},
   "outputs": [],
   "source": [
    "def gradientDescentMuiti(X, y, theta, num_iters):\n",
    "    m = len(y)\n",
    "    J_history = np.zeros((num_iters, 1))\n",
    "    \n",
    "    for i in range(num_iters):\n",
    "        temp_theta = theta\n",
    "        predictH = np.dot(X, theta)\n",
    "        S = np.dot(X.T, predictH - y)\n",
    "        temp_theta = theta - S * alpha / m\n",
    "        theta = temp_theta\n",
    "        J_history[i,0] = computeCostMulti(X, y, theta)\n",
    "    \n",
    "    return theta, J_history"
   ]
  },
  {
   "cell_type": "code",
   "execution_count": 53,
   "metadata": {},
   "outputs": [
    {
     "data": {
      "text/plain": [
       "[<matplotlib.lines.Line2D at 0x1f56d75aa90>]"
      ]
     },
     "execution_count": 53,
     "metadata": {},
     "output_type": "execute_result"
    },
    {
     "data": {
      "image/png": "[encoded data removed]",
      "text/plain": [
       "<Figure size 432x288 with 1 Axes>"
      ]
     },
     "metadata": {
      "needs_background": "light"
     },
     "output_type": "display_data"
    }
   ],
   "source": [
    "alpha = 0.01\n",
    "num_iters = 400\n",
    "theta = np.zeros((3, 1))\n",
    "\n",
    "theta, J_his = gradientDescentMuiti(X, Y, theta, num_iters)\n",
    "plt.plot(J_his, 'b-', linewidth = 2)"
   ]
  },
  {
   "cell_type": "code",
   "execution_count": 75,
   "metadata": {},
   "outputs": [
    {
     "name": "stdout",
     "output_type": "stream",
     "text": [
      "[[289221.54737122]]\n"
     ]
    }
   ],
   "source": [
    "x_nor = ([1650, 3] - mu) / sigma\n",
    "predictX = np.concatenate((np.asarray([1]), x_nor)).reshape(1, 3)\n",
    "predictY = np.dot(predictX, theta)\n",
    "print(predictY)"
   ]
  },
  {
   "cell_type": "code",
   "execution_count": 82,
   "metadata": {},
   "outputs": [],
   "source": [
    "def normalEqn(X, y):\n",
    "    m = X.shape[1]\n",
    "    theta = np.zeros((m, 1))\n",
    "    \n",
    "    theta = np.dot(np.dot(np.linalg.inv(np.dot(X.T, X)), X.T), y)\n",
    "    return theta"
   ]
  },
  {
   "cell_type": "code",
   "execution_count": 84,
   "metadata": {},
   "outputs": [
    {
     "name": "stdout",
     "output_type": "stream",
     "text": [
      "[[293081.4643349]]\n"
     ]
    }
   ],
   "source": [
    "X2 = np.concatenate((np.ones((m, 1)), X), axis = 1)\n",
    "theta2 = normalEqn(X2, Y)\n",
    "pdx = np.array([1, 1650, 3]).reshape(1, 3)\n",
    "pdy = np.dot(pdx, theta2)\n",
    "print(pdy)"
   ]
  }
 ],
 "metadata": {
  "kernelspec": {
   "display_name": "Python 3",
   "language": "python",
   "name": "python3"
  },
  "language_info": {
   "codemirror_mode": {
    "name": "ipython",
    "version": 3
   },
   "file_extension": ".py",
   "mimetype": "text/x-python",
   "name": "python",
   "nbconvert_exporter": "python",
   "pygments_lexer": "ipython3",
   "version": "3.7.0"
  }
 },
 "nbformat": 4,
 "nbformat_minor": 4
}
