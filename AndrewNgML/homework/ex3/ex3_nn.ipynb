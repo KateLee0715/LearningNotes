{
 "cells": [
  {
   "cell_type": "code",
   "execution_count": 1,
   "metadata": {},
   "outputs": [],
   "source": [
    "import scipy.io as scio\n",
    "import numpy as np\n",
    "import matplotlib.pyplot as plt"
   ]
  },
  {
   "cell_type": "code",
   "execution_count": 2,
   "metadata": {},
   "outputs": [],
   "source": [
    "data1 = scio.loadmat(\"ex3data1.mat\")\n",
    "X = data1['X']\n",
    "y = data1['y']\n",
    "data2 = scio.loadmat(\"ex3weights.mat\")\n",
    "Theta1 = data2['Theta1']\n",
    "Theta2 = data2['Theta2']"
   ]
  },
  {
   "cell_type": "code",
   "execution_count": 6,
   "metadata": {},
   "outputs": [],
   "source": [
    "def sigmoid(z):\n",
    "    g = 1 / (1 + np.exp(-z))\n",
    "    return g"
   ]
  },
  {
   "cell_type": "code",
   "execution_count": 9,
   "metadata": {},
   "outputs": [],
   "source": [
    "def predict(Theta1, Theta2, X):\n",
    "    m, n = X.shape\n",
    "    X = np.column_stack((np.ones((m,1)), X))\n",
    "    a2 = sigmoid(np.dot(X, Theta1.T))\n",
    "    a2 = np.column_stack((np.ones((m,1)), a2))\n",
    "    a3 = sigmoid(np.dot(a2, Theta2.T))\n",
    "    p = np.argmax(a3, axis = 1) + 1\n",
    "    return p.reshape(m, 1)"
   ]
  },
  {
   "cell_type": "code",
   "execution_count": 14,
   "metadata": {},
   "outputs": [
    {
     "name": "stdout",
     "output_type": "stream",
     "text": [
      "Accuracy = 97.5%\n"
     ]
    }
   ],
   "source": [
    "p = predict(Theta1, Theta2, X)\n",
    "print(\"Accuracy = %.1f%%\"%(np.mean(p == y) * 100))"
   ]
  }
 ],
 "metadata": {
  "kernelspec": {
   "display_name": "Python 3",
   "language": "python",
   "name": "python3"
  },
  "language_info": {
   "codemirror_mode": {
    "name": "ipython",
    "version": 3
   },
   "file_extension": ".py",
   "mimetype": "text/x-python",
   "name": "python",
   "nbconvert_exporter": "python",
   "pygments_lexer": "ipython3",
   "version": "3.7.0"
  }
 },
 "nbformat": 4,
 "nbformat_minor": 4
}
