{
 "cells": [
  {
   "cell_type": "code",
   "execution_count": 1,
   "metadata": {},
   "outputs": [],
   "source": [
    "import numpy as np\n",
    "import matplotlib.pyplot as plt\n",
    "import scipy.io as scio\n",
    "import scipy.optimize as opt"
   ]
  },
  {
   "cell_type": "code",
   "execution_count": 3,
   "metadata": {},
   "outputs": [],
   "source": [
    "data = scio.loadmat(\"ex8_movies.mat\")\n",
    "Y = data['Y']\n",
    "R = data['R']"
   ]
  },
  {
   "cell_type": "code",
   "execution_count": 27,
   "metadata": {},
   "outputs": [],
   "source": [
    "def cofiCostFunction(params, Y, R, num_movies, num_users, num_features, Lambda):\n",
    "    len1 = num_features * num_movies\n",
    "    len2 = num_features * num_users\n",
    "    X = params[0:len1].reshape(num_movies, num_features)\n",
    "    Theta = params[len1:len1+len2].reshape(num_users, num_features)\n",
    "    s1 = np.sum(np.power(np.dot(X, Theta.T) - Y, 2) * R) / 2\n",
    "    s2 = np.sum(np.power(X, 2)) * Lambda / 2\n",
    "    s3 = np.sum(np.power(Theta, 2)) * Lambda / 2\n",
    "    J = s1 + s2 + s3\n",
    "    return J"
   ]
  },
  {
   "cell_type": "code",
   "execution_count": 6,
   "metadata": {},
   "outputs": [],
   "source": [
    "data2 = scio.loadmat(\"ex8_movieParams.mat\")\n",
    "X = data2['X']\n",
    "Theta = data2['Theta']"
   ]
  },
  {
   "cell_type": "code",
   "execution_count": 11,
   "metadata": {},
   "outputs": [],
   "source": [
    "num_users = 4\n",
    "num_movies = 5\n",
    "num_features = 3\n",
    "tmpX = X[0:num_movies, 0:num_features]\n",
    "tmpTheta = Theta[0:num_users, 0:num_features]\n",
    "len1 = num_movies * num_features\n",
    "len2 = num_users * num_features\n",
    "params = np.vstack((tmpX.reshape(len1, 1), tmpTheta.reshape(len2, 1))).ravel()\n",
    "tmpY = Y[0:num_movies, 0:num_users]\n",
    "tmpR = R[0:num_movies, 0:num_users]"
   ]
  },
  {
   "cell_type": "code",
   "execution_count": 13,
   "metadata": {},
   "outputs": [
    {
     "data": {
      "text/plain": [
       "22.224603725685675"
      ]
     },
     "execution_count": 13,
     "metadata": {},
     "output_type": "execute_result"
    }
   ],
   "source": [
    "J = cofiCostFunction(params, tmpY, tmpR, num_movies, num_users, num_features,0)\n",
    "J"
   ]
  },
  {
   "cell_type": "code",
   "execution_count": 28,
   "metadata": {},
   "outputs": [],
   "source": [
    "def cofiGradient(params, Y, R, num_movies, num_users, num_features, Lambda):\n",
    "    len1 = num_movies * num_features\n",
    "    len2 = num_users * num_features\n",
    "    X = params[0:len1].reshape(num_movies, num_features)\n",
    "    Theta = params[len1:len1+len2].reshape(num_users, num_features)\n",
    "    s1 = np.dot((np.dot(X, Theta.T) - Y) * R, Theta)\n",
    "    gradX = s1 + Lambda * X\n",
    "    s2 = np.dot(((np.dot(X, Theta.T) - Y) * R).T, X)\n",
    "    gradTheta = s2 + Lambda * Theta\n",
    "    grad = np.vstack((gradX.reshape(len1, 1), gradTheta.reshape(len2, 1))).ravel()\n",
    "    return grad"
   ]
  },
  {
   "cell_type": "code",
   "execution_count": 18,
   "metadata": {},
   "outputs": [],
   "source": [
    "def computeNumericalGradient(Theta, Y, R, num_movies, num_users, num_features, Lambda):\n",
    "    e = 1e-4\n",
    "    m = Theta.shape[0]\n",
    "    perturb = np.zeros(m)\n",
    "    numgrad = np.zeros(m)\n",
    "    for i in range(m):\n",
    "        perturb[i] = e\n",
    "        loss1 = Theta - perturb\n",
    "        loss2 = Theta + perturb\n",
    "        numgrad[i] = (cofiCostFunction(loss2, Y, R, num_movies, num_users, num_features, Lambda) - cofiCostFunction(loss1, Y, R, num_movies, num_users, num_features, Lambda)) / (2 * e)\n",
    "        perturb[i] = 0\n",
    "    return numgrad"
   ]
  },
  {
   "cell_type": "code",
   "execution_count": 29,
   "metadata": {},
   "outputs": [],
   "source": [
    "def checkCostFunction(Lambda = 0):\n",
    "    X_t = np.random.rand(4, 3)\n",
    "    Theta_t = np.random.rand(5, 3)\n",
    "    Y = np.dot(X_t, Theta_t.T)\n",
    "    Y_t = Y <= 0.5\n",
    "    Y = Y * Y_t\n",
    "    R = Y != 0\n",
    "    X = np.random.randn(4, 3)\n",
    "    Theta = np.random.randn(5, 3)\n",
    "    params = np.vstack((X.reshape(4*3, 1), Theta.reshape(5*3, 1))).ravel()\n",
    "    numgrad = computeNumericalGradient(params, Y, R, 4, 5, 3, Lambda)\n",
    "    grad = cofiGradient(params, Y, R, 4, 5, 3, Lambda)\n",
    "    diff = np.linalg.norm(numgrad - grad) / np.linalg.norm(numgrad + grad)\n",
    "    return diff"
   ]
  },
  {
   "cell_type": "code",
   "execution_count": 31,
   "metadata": {},
   "outputs": [
    {
     "data": {
      "text/plain": [
       "4.800769475804007e-13"
      ]
     },
     "execution_count": 31,
     "metadata": {},
     "output_type": "execute_result"
    }
   ],
   "source": [
    "checkCostFunction()"
   ]
  },
  {
   "cell_type": "code",
   "execution_count": 32,
   "metadata": {},
   "outputs": [
    {
     "data": {
      "text/plain": [
       "31.344056244274217"
      ]
     },
     "execution_count": 32,
     "metadata": {},
     "output_type": "execute_result"
    }
   ],
   "source": [
    "J = cofiCostFunction(params, tmpY, tmpR, num_movies, num_users, num_features, 1.5)\n",
    "J"
   ]
  },
  {
   "cell_type": "code",
   "execution_count": 33,
   "metadata": {},
   "outputs": [
    {
     "data": {
      "text/plain": [
       "1.5238976955726712e-12"
      ]
     },
     "execution_count": 33,
     "metadata": {},
     "output_type": "execute_result"
    }
   ],
   "source": [
    "checkCostFunction(1.5)"
   ]
  },
  {
   "cell_type": "code",
   "execution_count": 62,
   "metadata": {},
   "outputs": [],
   "source": [
    "def loadMovieList():\n",
    "    with open(\"movie_ids.txt\", encoding='gb18030', errors='ignore') as f:\n",
    "        movies = f.readlines()\n",
    "    movieList = []\n",
    "    for i in range(len(movies)):\n",
    "        tmpList = movies[i].split(' ')\n",
    "        name = ' '.join(tmpList[1:len(tmpList)]).strip()\n",
    "        movieList.append(name)\n",
    "    return movieList"
   ]
  },
  {
   "cell_type": "code",
   "execution_count": 65,
   "metadata": {},
   "outputs": [],
   "source": [
    "movieList = loadMovieList()\n",
    "m = len(movieList)"
   ]
  },
  {
   "cell_type": "code",
   "execution_count": 66,
   "metadata": {},
   "outputs": [],
   "source": [
    "my_ratings = np.zeros(m)\n",
    "my_ratings[0] = 4\n",
    "my_ratings[97] = 2\n",
    "my_ratings[6] = 3\n",
    "my_ratings[11]= 5\n",
    "my_ratings[53] = 4\n",
    "my_ratings[63]= 5\n",
    "my_ratings[65]= 3\n",
    "my_ratings[68] = 5\n",
    "my_ratings[182] = 4\n",
    "my_ratings[225] = 5\n",
    "my_ratings[354]= 5"
   ]
  },
  {
   "cell_type": "code",
   "execution_count": 68,
   "metadata": {},
   "outputs": [
    {
     "name": "stdout",
     "output_type": "stream",
     "text": [
      "New user ratings:\n",
      "Rated 4 for Toy Story (1995)\n",
      "Rated 3 for Twelve Monkeys (1995)\n",
      "Rated 5 for Usual Suspects, The (1995)\n",
      "Rated 4 for Outbreak (1995)\n",
      "Rated 5 for Shawshank Redemption, The (1994)\n",
      "Rated 3 for While You Were Sleeping (1995)\n",
      "Rated 5 for Forrest Gump (1994)\n",
      "Rated 2 for Silence of the Lambs, The (1991)\n",
      "Rated 4 for Alien (1979)\n",
      "Rated 5 for Die Hard 2 (1990)\n",
      "Rated 5 for Sphere (1998)\n"
     ]
    }
   ],
   "source": [
    "print(\"New user ratings:\")\n",
    "for i in range(len(my_ratings)):\n",
    "    if my_ratings[i] > 0:\n",
    "        print(\"Rated %d for %s\"%(my_ratings[i], movieList[i]))"
   ]
  },
  {
   "cell_type": "code",
   "execution_count": 77,
   "metadata": {},
   "outputs": [],
   "source": [
    "def normalizeRatings(Y, R):\n",
    "    m = Y.shape[0]\n",
    "    Ymean = np.sum(Y, axis = 1) / np.sum(R, axis = 1)\n",
    "    Ynorm = Y - Ymean.reshape(m, 1)\n",
    "    Ynorm = Ynorm * R + 0\n",
    "    return Ynorm, Ymean"
   ]
  },
  {
   "cell_type": "code",
   "execution_count": 85,
   "metadata": {},
   "outputs": [],
   "source": [
    "Y = np.hstack((my_ratings.reshape(m, 1), Y))\n",
    "R = np.hstack((my_ratings.reshape(m, 1) > 0, R))\n",
    "Ynorm, Ymean = normalizeRatings(Y, R)"
   ]
  },
  {
   "cell_type": "code",
   "execution_count": 90,
   "metadata": {},
   "outputs": [],
   "source": [
    "num_movies, num_users = Y.shape\n",
    "num_features = 10\n",
    "Lambda = 10\n",
    "X = np.random.randn(num_movies, num_features)\n",
    "Theta = np.random.randn(num_users, num_features)\n",
    "len1 = num_movies * num_features\n",
    "len2 = num_users * num_features"
   ]
  },
  {
   "cell_type": "code",
   "execution_count": 91,
   "metadata": {},
   "outputs": [],
   "source": [
    "init_params = np.vstack((X.reshape(len1, 1), Theta.reshape(len2, 1))).reshape(-1)\n",
    "params = opt.fmin_cg(f = cofiCostFunction, x0 = init_params, fprime = cofiGradient, args = (Y, R, num_movies, num_users, num_features, Lambda),\n",
    "                    maxiter = 100, disp = False)"
   ]
  },
  {
   "cell_type": "code",
   "execution_count": 93,
   "metadata": {},
   "outputs": [],
   "source": [
    "X = params[0:len1].reshape(num_movies, num_features)\n",
    "Theta = params[len1:len1+len2].reshape(num_users, num_features)\n",
    "pred = np.dot(X, Theta.T) + Ymean.reshape(m, 1)\n",
    "new_ratings = pred[:,0]"
   ]
  },
  {
   "cell_type": "code",
   "execution_count": 103,
   "metadata": {},
   "outputs": [],
   "source": [
    "idx = sorted(enumerate(new_ratings), key=lambda x:x[1], reverse = True)"
   ]
  },
  {
   "cell_type": "code",
   "execution_count": 110,
   "metadata": {},
   "outputs": [
    {
     "name": "stdout",
     "output_type": "stream",
     "text": [
      "Top recommendations for you:\n",
      "Predicting rating 8.5 for movie Star Wars (1977)\n",
      "Predicting rating 8.4 for movie Titanic (1997)\n",
      "Predicting rating 8.3 for movie Shawshank Redemption, The (1994)\n",
      "Predicting rating 8.2 for movie Raiders of the Lost Ark (1981)\n",
      "Predicting rating 8.2 for movie Schindler's List (1993)\n",
      "Predicting rating 8.1 for movie Good Will Hunting (1997)\n",
      "Predicting rating 8.1 for movie Usual Suspects, The (1995)\n",
      "Predicting rating 8.0 for movie Braveheart (1995)\n",
      "Predicting rating 8.0 for movie Empire Strikes Back, The (1980)\n",
      "Predicting rating 8.0 for movie Godfather, The (1972)\n",
      "\n",
      "Original ratings provided:\n",
      "Rated 4 for Toy Story (1995)\n",
      "Rated 3 for Twelve Monkeys (1995)\n",
      "Rated 5 for Usual Suspects, The (1995)\n",
      "Rated 4 for Outbreak (1995)\n",
      "Rated 5 for Shawshank Redemption, The (1994)\n",
      "Rated 3 for While You Were Sleeping (1995)\n",
      "Rated 5 for Forrest Gump (1994)\n",
      "Rated 2 for Silence of the Lambs, The (1991)\n",
      "Rated 4 for Alien (1979)\n",
      "Rated 5 for Die Hard 2 (1990)\n",
      "Rated 5 for Sphere (1998)\n"
     ]
    }
   ],
   "source": [
    "print(\"Top recommendations for you:\")\n",
    "for i in range(10):\n",
    "    print(\"Predicting rating %.1f for movie %s\"%(new_ratings[idx[i][0]], movieList[idx[i][0]]))\n",
    "print()\n",
    "print(\"Original ratings provided:\")\n",
    "for i in range(len(my_ratings)):\n",
    "    if my_ratings[i] > 0:\n",
    "        print(\"Rated %d for %s\"%(my_ratings[i], movieList[i]))"
   ]
  }
 ],
 "metadata": {
  "kernelspec": {
   "display_name": "Python 3",
   "language": "python",
   "name": "python3"
  },
  "language_info": {
   "codemirror_mode": {
    "name": "ipython",
    "version": 3
   },
   "file_extension": ".py",
   "mimetype": "text/x-python",
   "name": "python",
   "nbconvert_exporter": "python",
   "pygments_lexer": "ipython3",
   "version": "3.7.0"
  }
 },
 "nbformat": 4,
 "nbformat_minor": 4
}
