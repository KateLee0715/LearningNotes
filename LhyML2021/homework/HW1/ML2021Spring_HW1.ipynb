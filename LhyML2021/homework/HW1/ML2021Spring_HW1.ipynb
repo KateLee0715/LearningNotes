{
 "cells": [
  {
   "cell_type": "code",
   "execution_count": 94,
   "metadata": {
    "collapsed": true
   },
   "outputs": [],
   "source": [
    "# PyTorch\n",
    "import torch\n",
    "import torch.nn as nn\n",
    "from torch.utils.data import Dataset, DataLoader\n",
    "\n",
    "# For data preprocess\n",
    "import numpy as np\n",
    "import csv\n",
    "import os\n",
    "\n",
    "# For plotting\n",
    "import matplotlib.pyplot as plt\n",
    "from matplotlib.pyplot import figure\n",
    "\n",
    "from sklearn.feature_selection import SelectKBest\n",
    "from sklearn.feature_selection import f_regression\n",
    "import pandas as pd\n",
    "\n",
    "myseed = 42069  # set a random seed for reproducibility\n",
    "torch.backends.cudnn.deterministic = True\n",
    "torch.backends.cudnn.benchmark = False\n",
    "np.random.seed(myseed)\n",
    "torch.manual_seed(myseed)\n",
    "if torch.cuda.is_available():\n",
    "    torch.cuda.manual_seed_all(myseed)"
   ]
  },
  {
   "cell_type": "code",
   "execution_count": 91,
   "metadata": {
    "collapsed": true
   },
   "outputs": [],
   "source": [
    "def get_device():\n",
    "    ''' Get device (if GPU is available, use GPU) '''\n",
    "    return 'cuda' if torch.cuda.is_available() else 'cpu'\n",
    "\n",
    "def plot_learning_curve(loss_record, title=''):\n",
    "    ''' Plot learning curve of your DNN (train & dev loss) '''\n",
    "    total_steps = len(loss_record['train'])\n",
    "    x_1 = range(total_steps)\n",
    "    x_2 = x_1[::len(loss_record['train']) // len(loss_record['dev'])]\n",
    "    figure(figsize=(6, 4))\n",
    "    plt.plot(x_1, loss_record['train'], c='tab:red', label='train')\n",
    "    plt.plot(x_2, loss_record['dev'], c='tab:cyan', label='dev')\n",
    "    plt.ylim(0.0, 5.)\n",
    "    plt.xlabel('Training steps')\n",
    "    plt.ylabel('MSE loss')\n",
    "    plt.title('Learning curve of {}'.format(title))\n",
    "    plt.legend()\n",
    "    plt.show()\n",
    "\n",
    "\n",
    "def plot_pred(dv_set, model, device, lim=35., preds=None, targets=None):\n",
    "    ''' Plot prediction of your DNN '''\n",
    "    if preds is None or targets is None:\n",
    "        model.eval()\n",
    "        preds, targets = [], []\n",
    "        for x, y in dv_set:\n",
    "            x, y = x.to(device), y.to(device)\n",
    "            with torch.no_grad():\n",
    "                pred = model(x)\n",
    "                preds.append(pred.detach().cpu())\n",
    "                targets.append(y.detach().cpu())\n",
    "        preds = torch.cat(preds, dim=0).numpy()\n",
    "        targets = torch.cat(targets, dim=0).numpy()\n",
    "    figure(figsize=(5, 5))\n",
    "    plt.scatter(targets, preds, c='r', alpha=0.5)\n",
    "    plt.plot([-0.2, lim], [-0.2, lim], c='b')\n",
    "    plt.xlim(-0.2, lim)\n",
    "    plt.ylim(-0.2, lim)\n",
    "    plt.xlabel('ground truth value')\n",
    "    plt.ylabel('predicted value')\n",
    "    plt.title('Ground Truth v.s. Prediction')\n",
    "    plt.show()"
   ]
  },
  {
   "cell_type": "code",
   "execution_count": 95,
   "metadata": {
    "collapsed": true
   },
   "outputs": [],
   "source": [
    "def featureSelect(path, k, nlargest):\n",
    "    data = pd.read_csv(path)\n",
    "    x = data[data.columns[1:94]]\n",
    "    y = data[data.columns[94]]\n",
    "    X = (x - x.mean()) / x.std()\n",
    "    bestFeatures = SelectKBest(score_func = f_regression, k = k)\n",
    "    fit = bestFeatures.fit(X, y)\n",
    "    scores = pd.DataFrame(fit.scores_)\n",
    "    columns = pd.DataFrame(x.columns)\n",
    "    featureScores = pd.concat([columns, scores], axis = 1)\n",
    "    featureScores.columns = ['Specs', 'Score']\n",
    "    return list(featureScores.nlargest(nlargest, 'Score').index)"
   ]
  },
  {
   "cell_type": "code",
   "execution_count": 106,
   "metadata": {
    "collapsed": true
   },
   "outputs": [],
   "source": [
    "class COVID19Dataset(Dataset):\n",
    "    def __init__(self, path, feats = [], mode = 'train', target_only = False):\n",
    "        self.mode = mode\n",
    "        \n",
    "        with open(path, 'r') as fp:\n",
    "            data = list(csv.reader(fp))\n",
    "            data = np.array(data[1:])[:,1:].astype(float)\n",
    "        \n",
    "        if not target_only:\n",
    "            feats = list(range(93))\n",
    "        else:\n",
    "            #feats = list(range(40)) + [57, 75]\n",
    "            #feats = featureSelect(path, 5, 15)\n",
    "            pass\n",
    "        \n",
    "        if self.mode == 'test':\n",
    "            data = data[:, feats]\n",
    "            self.data = torch.FloatTensor(data)\n",
    "        else:\n",
    "            target = data[:, -1]\n",
    "            data = data[:, feats]\n",
    "            \n",
    "            if self.mode == 'train':\n",
    "                indices = [i for i in range(len(data)) if i % 10 != 0]\n",
    "            else:\n",
    "                indices = [i for i in range(len(data)) if i % 10 == 0]\n",
    "            \n",
    "            self.data = torch.FloatTensor(data[indices])\n",
    "            self.target = torch.FloatTensor(target[indices])\n",
    "        \n",
    "        self.data[:, 40:] = (self.data[:, 40:] - self.data[:, 40:].mean(dim = 0, keepdim = True)) / self.data[:, 40:].std(dim = 0, keepdim = True)\n",
    "        \n",
    "        self.dim = self.data.shape[1]\n",
    "        \n",
    "        print('Finished reading the {} set of COVID19 Dataset ({} samples found, each dim = {})'\n",
    "              .format(mode, len(self.data), self.dim))\n",
    "    \n",
    "    def __getitem__(self, index):\n",
    "        if self.mode in ['train', 'dev']:\n",
    "            return self.data[index], self.target[index]\n",
    "        else:\n",
    "            return self.data[index]\n",
    "    \n",
    "    def __len__(self):\n",
    "        return len(self.data)"
   ]
  },
  {
   "cell_type": "code",
   "execution_count": 107,
   "metadata": {
    "collapsed": true
   },
   "outputs": [],
   "source": [
    "def prep_dataloader(path, feats, mode, batch_size, n_jobs = 0, target_only = False):\n",
    "    dataset = COVID19Dataset(path, feats, mode, target_only)\n",
    "    dataloader = DataLoader(dataset, batch_size, shuffle = (mode == 'train'), num_workers = n_jobs, drop_last = False, pin_memory=True)\n",
    "    return dataloader"
   ]
  },
  {
   "cell_type": "code",
   "execution_count": 104,
   "metadata": {
    "collapsed": true
   },
   "outputs": [],
   "source": [
    "class NeuralNet(nn.Module):\n",
    "    def __init__(self, input_dim):\n",
    "        super(NeuralNet, self).__init__()\n",
    "        \n",
    "        self.net = nn.Sequential(\n",
    "            nn.Linear(input_dim, 32),\n",
    "            nn.BatchNorm1d(32), #使用BN，加速模型训练\n",
    "            nn.Dropout(p = 0.2), #使用Dropout，减小过拟合，注意不能在BN之前 \n",
    "            nn.LeakyReLU(),\n",
    "            nn.Linear(32, 1)\n",
    "        )\n",
    "        \n",
    "        self.criterion = nn.MSELoss(reduction = 'mean')\n",
    "    \n",
    "    def forward(self, x):\n",
    "        return self.net(x).squeeze(1)\n",
    "    \n",
    "    def cal_loss(self, pred, target):\n",
    "        reg_loss = 0\n",
    "        for param in self.parameters():\n",
    "            reg_loss += torch.sum(param ** 2)\n",
    "        return self.criterion(pred, target) + 0.00075 * reg_loss"
   ]
  },
  {
   "cell_type": "code",
   "execution_count": 113,
   "metadata": {
    "collapsed": true
   },
   "outputs": [],
   "source": [
    "def dev(dv_set, model, device):\n",
    "    model.eval()\n",
    "    total_loss = 0\n",
    "    for x, y in dv_set:\n",
    "        x, y = x.to(device), y.to(device)\n",
    "        with torch.no_grad():\n",
    "            pred = model(x)\n",
    "            mse_loss = model.cal_loss(pred, y)\n",
    "            total_loss += mse_loss.detach().cpu().item() * len(x)\n",
    "    total_loss = total_loss / len(dv_set.dataset)\n",
    "    \n",
    "    return total_loss"
   ]
  },
  {
   "cell_type": "code",
   "execution_count": 114,
   "metadata": {
    "collapsed": true
   },
   "outputs": [],
   "source": [
    "def test(tt_set, model, device):\n",
    "    model.eval()\n",
    "    preds = []\n",
    "    for x in tt_set:\n",
    "        x = x.to(device)\n",
    "        with torch.no_grad():\n",
    "            pred = model(x)\n",
    "            preds.append(pred.detach().cpu())\n",
    "    preds = torch.cat(preds, dim = 0).numpy()\n",
    "    return preds"
   ]
  },
  {
   "cell_type": "code",
   "execution_count": 115,
   "metadata": {
    "collapsed": true
   },
   "outputs": [],
   "source": [
    "def train(tr_set, dv_set, model, config, device):\n",
    "    \n",
    "    n_epochs = config['n_epochs']\n",
    "    \n",
    "    optimizer = getattr(torch.optim, config['optimizer'])(model.parameters(), **config['optim_hparas'])\n",
    "    \n",
    "    loss_record = {'train':[], 'dev':[]}\n",
    "    early_stop_cnt = 0\n",
    "    epoch = 0\n",
    "    min_mse = 1000\n",
    "    \n",
    "    while epoch < n_epochs:\n",
    "        model.train()\n",
    "        for x, y in tr_set:\n",
    "            optimizer.zero_grad()\n",
    "            x, y = x.to(device), y.to(device)\n",
    "            pred = model(x)\n",
    "            mse_loss = model.cal_loss(pred, y)\n",
    "            mse_loss.backward()\n",
    "            optimizer.step()\n",
    "            loss_record['train'].append(mse_loss.detach().cpu().item())\n",
    "\n",
    "        dev_mse = dev(dv_set, model, device)\n",
    "        if dev_mse < min_mse:\n",
    "            min_mse = dev_mse\n",
    "\n",
    "            print('Saving model (epoch = {:4d}, loss = {:.4f})'\n",
    "                    .format(epoch + 1, min_mse))\n",
    "            torch.save(model.state_dict(), config['save_path'])\n",
    "\n",
    "            early_stop_cnt = 0\n",
    "        else:\n",
    "            early_stop_cnt += 1\n",
    "\n",
    "        loss_record['dev'].append(dev_mse)\n",
    "        epoch += 1\n",
    "        \n",
    "        if early_stop_cnt > config['early_stop']:\n",
    "            break\n",
    "    \n",
    "    print('Finished training after {} epochs'.format(epoch))\n",
    "    return min_mse, loss_record"
   ]
  },
  {
   "cell_type": "code",
   "execution_count": 116,
   "metadata": {
    "collapsed": true
   },
   "outputs": [],
   "source": [
    "tr_path = \"covid.train.csv\"\n",
    "tt_path = \"covid.test.csv\"\n",
    "\n",
    "device = get_device()\n",
    "os.makedirs('models', exist_ok = True)\n",
    "target_only = True\n",
    "\n",
    "config = {\n",
    "    'n_epochs': 10000,\n",
    "    'batch_size': 200,\n",
    "    'optimizer': 'Adam',\n",
    "    'optim_hparas': {\n",
    "        #'lr': 0.001,\n",
    "        #'momentum': 0.9\n",
    "    },\n",
    "    'early_stop': 500,\n",
    "    'save_path': 'models/model.pth'\n",
    "}\n",
    "\n",
    "feats = featureSelect(tr_path, 5, 14)"
   ]
  },
  {
   "cell_type": "code",
   "execution_count": 117,
   "metadata": {},
   "outputs": [
    {
     "name": "stdout",
     "output_type": "stream",
     "text": [
      "Finished reading the train set of COVID19 Dataset (2430 samples found, each dim = 14)\n",
      "Finished reading the dev set of COVID19 Dataset (270 samples found, each dim = 14)\n",
      "Finished reading the test set of COVID19 Dataset (893 samples found, each dim = 14)\n"
     ]
    }
   ],
   "source": [
    "tr_set = prep_dataloader(tr_path, feats, 'train', config['batch_size'], target_only = target_only)\n",
    "dv_set = prep_dataloader(tr_path, feats, 'dev', config['batch_size'], target_only = target_only)\n",
    "tt_set = prep_dataloader(tt_path, feats, 'test', config['batch_size'], target_only = target_only)"
   ]
  },
  {
   "cell_type": "code",
   "execution_count": 118,
   "metadata": {
    "collapsed": true
   },
   "outputs": [],
   "source": [
    "model = NeuralNet(tr_set.dataset.dim).to(device)"
   ]
  },
  {
   "cell_type": "code",
   "execution_count": 119,
   "metadata": {},
   "outputs": [
    {
     "name": "stdout",
     "output_type": "stream",
     "text": [
      "Saving model (epoch =    1, loss = 295.0916)\n",
      "Saving model (epoch =    2, loss = 281.6156)\n",
      "Saving model (epoch =    3, loss = 252.8888)\n",
      "Saving model (epoch =    4, loss = 225.2979)\n",
      "Saving model (epoch =   10, loss = 214.5549)\n",
      "Saving model (epoch =   11, loss = 204.0517)\n",
      "Saving model (epoch =   12, loss = 182.0695)\n",
      "Saving model (epoch =   13, loss = 168.2814)\n",
      "Saving model (epoch =   14, loss = 165.2566)\n",
      "Saving model (epoch =   15, loss = 151.5687)\n",
      "Saving model (epoch =   16, loss = 137.2500)\n",
      "Saving model (epoch =   17, loss = 135.7879)\n",
      "Saving model (epoch =   18, loss = 118.0500)\n",
      "Saving model (epoch =   19, loss = 107.6240)\n",
      "Saving model (epoch =   20, loss = 104.4849)\n",
      "Saving model (epoch =   21, loss = 89.0941)\n",
      "Saving model (epoch =   26, loss = 61.9218)\n",
      "Saving model (epoch =   27, loss = 58.4295)\n",
      "Saving model (epoch =   29, loss = 56.6932)\n",
      "Saving model (epoch =   31, loss = 55.1465)\n",
      "Saving model (epoch =   32, loss = 51.5185)\n",
      "Saving model (epoch =   33, loss = 25.1684)\n",
      "Saving model (epoch =   37, loss = 22.3630)\n",
      "Saving model (epoch =   40, loss = 20.8621)\n",
      "Saving model (epoch =   42, loss = 9.5124)\n",
      "Saving model (epoch =   52, loss = 9.0320)\n",
      "Saving model (epoch =   58, loss = 8.1259)\n",
      "Saving model (epoch =   61, loss = 8.0860)\n",
      "Saving model (epoch =   67, loss = 7.9727)\n",
      "Saving model (epoch =   68, loss = 7.1817)\n",
      "Saving model (epoch =   78, loss = 6.9147)\n",
      "Saving model (epoch =   83, loss = 6.6676)\n",
      "Saving model (epoch =   88, loss = 5.6996)\n",
      "Saving model (epoch =   90, loss = 5.6307)\n",
      "Saving model (epoch =   99, loss = 5.6263)\n",
      "Saving model (epoch =  101, loss = 5.3423)\n",
      "Saving model (epoch =  102, loss = 5.2113)\n",
      "Saving model (epoch =  104, loss = 4.9995)\n",
      "Saving model (epoch =  112, loss = 4.4709)\n",
      "Saving model (epoch =  120, loss = 4.3743)\n",
      "Saving model (epoch =  127, loss = 4.0358)\n",
      "Saving model (epoch =  134, loss = 3.7284)\n",
      "Saving model (epoch =  143, loss = 3.5325)\n",
      "Saving model (epoch =  146, loss = 3.4717)\n",
      "Saving model (epoch =  150, loss = 3.1492)\n",
      "Saving model (epoch =  155, loss = 3.0283)\n",
      "Saving model (epoch =  156, loss = 2.9832)\n",
      "Saving model (epoch =  167, loss = 2.4800)\n",
      "Saving model (epoch =  173, loss = 2.4534)\n",
      "Saving model (epoch =  177, loss = 2.1880)\n",
      "Saving model (epoch =  185, loss = 2.0591)\n",
      "Saving model (epoch =  192, loss = 1.9634)\n",
      "Saving model (epoch =  204, loss = 1.8356)\n",
      "Saving model (epoch =  209, loss = 1.8190)\n",
      "Saving model (epoch =  211, loss = 1.7411)\n",
      "Saving model (epoch =  214, loss = 1.6030)\n",
      "Saving model (epoch =  215, loss = 1.5805)\n",
      "Saving model (epoch =  223, loss = 1.4668)\n",
      "Saving model (epoch =  231, loss = 1.3299)\n",
      "Saving model (epoch =  235, loss = 1.3030)\n",
      "Saving model (epoch =  248, loss = 1.2781)\n",
      "Saving model (epoch =  249, loss = 1.2633)\n",
      "Saving model (epoch =  258, loss = 1.2077)\n",
      "Saving model (epoch =  261, loss = 1.1782)\n",
      "Saving model (epoch =  265, loss = 1.1782)\n",
      "Saving model (epoch =  266, loss = 1.1289)\n",
      "Saving model (epoch =  267, loss = 1.1230)\n",
      "Saving model (epoch =  270, loss = 1.1117)\n",
      "Saving model (epoch =  279, loss = 1.0954)\n",
      "Saving model (epoch =  284, loss = 1.0937)\n",
      "Saving model (epoch =  288, loss = 1.0844)\n",
      "Saving model (epoch =  289, loss = 1.0730)\n",
      "Saving model (epoch =  297, loss = 1.0576)\n",
      "Saving model (epoch =  298, loss = 1.0223)\n",
      "Saving model (epoch =  310, loss = 1.0010)\n",
      "Saving model (epoch =  311, loss = 0.9662)\n",
      "Saving model (epoch =  331, loss = 0.9544)\n",
      "Saving model (epoch =  333, loss = 0.9524)\n",
      "Saving model (epoch =  338, loss = 0.9337)\n",
      "Saving model (epoch =  351, loss = 0.9230)\n",
      "Saving model (epoch =  371, loss = 0.9140)\n",
      "Saving model (epoch =  393, loss = 0.9063)\n",
      "Saving model (epoch =  423, loss = 0.8975)\n",
      "Saving model (epoch =  431, loss = 0.8973)\n",
      "Saving model (epoch =  456, loss = 0.8917)\n",
      "Saving model (epoch =  465, loss = 0.8897)\n",
      "Saving model (epoch =  492, loss = 0.8881)\n",
      "Saving model (epoch =  526, loss = 0.8693)\n",
      "Saving model (epoch =  603, loss = 0.8593)\n",
      "Saving model (epoch =  607, loss = 0.8524)\n",
      "Saving model (epoch =  618, loss = 0.8471)\n",
      "Finished training after 1119 epochs\n"
     ]
    }
   ],
   "source": [
    "model_loss, model_loss_record = train(tr_set, dv_set, model, config, device)"
   ]
  },
  {
   "cell_type": "code",
   "execution_count": 120,
   "metadata": {},
   "outputs": [
    {
     "data": {
      "image/png": "[encoded data removed]",
      "text/plain": [
       "<Figure size 432x288 with 1 Axes>"
      ]
     },
     "metadata": {
      "needs_background": "light"
     },
     "output_type": "display_data"
    }
   ],
   "source": [
    "plot_learning_curve(model_loss_record, title='deep model')"
   ]
  },
  {
   "cell_type": "code",
   "execution_count": 121,
   "metadata": {},
   "outputs": [
    {
     "data": {
      "image/png": "[encoded data removed]",
      "text/plain": [
       "<Figure size 360x360 with 1 Axes>"
      ]
     },
     "metadata": {
      "needs_background": "light"
     },
     "output_type": "display_data"
    }
   ],
   "source": [
    "del model\n",
    "model = NeuralNet(tr_set.dataset.dim).to(device)\n",
    "ckpt = torch.load(config['save_path'], map_location = 'cpu')\n",
    "model.load_state_dict(ckpt)\n",
    "plot_pred(dv_set, model, device)"
   ]
  },
  {
   "cell_type": "code",
   "execution_count": 122,
   "metadata": {
    "collapsed": true
   },
   "outputs": [],
   "source": [
    "def save_pred(preds, file):\n",
    "    print('Saving results to {}'.format(file))\n",
    "    with open(file, 'w') as fp:\n",
    "        writer = csv.writer(fp)\n",
    "        writer.writerow(['id', 'tested_positive'])\n",
    "        for i, p in enumerate(preds):\n",
    "            writer.writerow([i, p])"
   ]
  },
  {
   "cell_type": "code",
   "execution_count": 123,
   "metadata": {},
   "outputs": [
    {
     "name": "stdout",
     "output_type": "stream",
     "text": [
      "Saving results to pred.csv\n"
     ]
    }
   ],
   "source": [
    "preds = test(tt_set, model, device)\n",
    "save_pred(preds, 'pred.csv')"
   ]
  },
  {
   "cell_type": "code",
   "execution_count": null,
   "metadata": {
    "collapsed": true
   },
   "outputs": [],
   "source": []
  }
 ],
 "metadata": {
  "kernelspec": {
   "display_name": "Python [conda env:pytorch]",
   "language": "python",
   "name": "conda-env-pytorch-py"
  },
  "language_info": {
   "codemirror_mode": {
    "name": "ipython",
    "version": 3
   },
   "file_extension": ".py",
   "mimetype": "text/x-python",
   "name": "python",
   "nbconvert_exporter": "python",
   "pygments_lexer": "ipython3",
   "version": "3.6.13"
  }
 },
 "nbformat": 4,
 "nbformat_minor": 5
}
