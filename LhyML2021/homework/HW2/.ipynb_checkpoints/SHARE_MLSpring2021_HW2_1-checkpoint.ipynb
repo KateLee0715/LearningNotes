{
 "cells": [
  {
   "cell_type": "code",
   "execution_count": 2,
   "metadata": {},
   "outputs": [
    {
     "name": "stdout",
     "output_type": "stream",
     "text": [
      "Loading data ...\n",
      "Size of training data: (1229932, 429)\n",
      "Size of testing data: (451552, 429)\n"
     ]
    }
   ],
   "source": [
    "import numpy as np\n",
    "\n",
    "print(\"Loading data ...\")\n",
    "\n",
    "data_root = 'timit_11'\n",
    "train = np.load(data_root + '/train_11.npy')\n",
    "train_label = np.load(data_root + '/train_label_11.npy')\n",
    "test = np.load(data_root + '/test_11.npy')\n",
    "\n",
    "print(\"Size of training data: {}\".format(train.shape))\n",
    "print(\"Size of testing data: {}\".format(test.shape))"
   ]
  },
  {
   "cell_type": "code",
   "execution_count": 3,
   "metadata": {
    "collapsed": true
   },
   "outputs": [],
   "source": [
    "import torch\n",
    "from torch.utils.data import Dataset\n",
    "\n",
    "class TIMITDataset(Dataset):\n",
    "    def __init__(self, X, y = None):\n",
    "        self.data = torch.from_numpy(X).float()\n",
    "        if y is not None:\n",
    "            y = y.astype(int)\n",
    "            self.label = torch.LongTensor(y)\n",
    "        else:\n",
    "            self.label = None\n",
    "    \n",
    "    def __getitem__(self, idx):\n",
    "        if self.label is not None:\n",
    "            return self.data[idx], self.label[idx]\n",
    "        else:\n",
    "            return self.data[idx]\n",
    "    \n",
    "    def __len__(self):\n",
    "        return len(self.data)"
   ]
  },
  {
   "cell_type": "code",
   "execution_count": 4,
   "metadata": {},
   "outputs": [
    {
     "name": "stdout",
     "output_type": "stream",
     "text": [
      "Size of training set: (983945, 429)\n",
      "Size of validation set: (245987, 429)\n"
     ]
    }
   ],
   "source": [
    "VAL_RATIO = 0.2\n",
    "\n",
    "percent = int(train.shape[0] * (1 - VAL_RATIO))\n",
    "train_x, train_y, val_x, val_y = train[:percent], train_label[:percent], train[percent:], train_label[percent:]\n",
    "\n",
    "print(\"Size of training set: {}\".format(train_x.shape))\n",
    "print(\"Size of validation set: {}\".format(val_x.shape))"
   ]
  },
  {
   "cell_type": "code",
   "execution_count": 5,
   "metadata": {
    "collapsed": true
   },
   "outputs": [],
   "source": [
    "from torch.utils.data import DataLoader\n",
    "\n",
    "BATCH_SIZE = 64\n",
    "\n",
    "train_set = TIMITDataset(train_x, train_y)\n",
    "val_set = TIMITDataset(val_x, val_y)\n",
    "\n",
    "train_loader = DataLoader(train_set, batch_size = BATCH_SIZE, shuffle = True)\n",
    "val_loader = DataLoader(val_set, batch_size = BATCH_SIZE, shuffle = False)"
   ]
  },
  {
   "cell_type": "code",
   "execution_count": 6,
   "metadata": {},
   "outputs": [
    {
     "data": {
      "text/plain": [
       "5"
      ]
     },
     "execution_count": 6,
     "metadata": {},
     "output_type": "execute_result"
    }
   ],
   "source": [
    "import gc\n",
    "\n",
    "del train, train_label, train_x, train_y, val_x, val_y\n",
    "gc.collect()"
   ]
  },
  {
   "cell_type": "code",
   "execution_count": 7,
   "metadata": {
    "collapsed": true
   },
   "outputs": [],
   "source": [
    "import torch\n",
    "import torch.nn as nn\n",
    "\n",
    "class Classifier(nn.Module):\n",
    "    def __init__(self):\n",
    "        super(Classifier, self).__init__()\n",
    "        self.layer1 = nn.Linear(429, 1024)\n",
    "        self.layer2 = nn.Linear(1024, 512)\n",
    "        self.layer3 = nn.Linear(512, 128)\n",
    "        self.out = nn.Linear(128, 39)\n",
    "        \n",
    "        self.act_fn = nn.Sigmoid()\n",
    "    \n",
    "    def forward(self, x):\n",
    "        x = self.layer1(x)\n",
    "        x = self.act_fn(x)\n",
    "        \n",
    "        x = self.layer2(x)\n",
    "        x = self.act_fn(x)\n",
    "        \n",
    "        x = self.layer3(x)\n",
    "        x = self.act_fn(x)\n",
    "        \n",
    "        x = self.out(x)\n",
    "        return x"
   ]
  },
  {
   "cell_type": "code",
   "execution_count": 8,
   "metadata": {
    "collapsed": true
   },
   "outputs": [],
   "source": [
    "def get_device():\n",
    "    return 'cuda' if torch.cuda.is_available() == True else 'cpu'"
   ]
  },
  {
   "cell_type": "code",
   "execution_count": 9,
   "metadata": {
    "collapsed": true
   },
   "outputs": [],
   "source": [
    "# fix random seed\n",
    "def same_seeds(seed):\n",
    "    torch.manual_seed(seed)\n",
    "    if torch.cuda.is_available():\n",
    "        torch.cuda.manual_seed(seed)\n",
    "        torch.cuda.manual_seed_all(seed)  \n",
    "    np.random.seed(seed)  \n",
    "    torch.backends.cudnn.benchmark = False\n",
    "    torch.backends.cudnn.deterministic = True"
   ]
  },
  {
   "cell_type": "code",
   "execution_count": 10,
   "metadata": {},
   "outputs": [
    {
     "name": "stdout",
     "output_type": "stream",
     "text": [
      "DEVICE: cuda\n"
     ]
    }
   ],
   "source": [
    "same_seeds(0)\n",
    "\n",
    "device = get_device()\n",
    "print(\"DEVICE: {}\".format(device))\n",
    "\n",
    "num_epochs = 20\n",
    "learning_rate = 0.0001\n",
    "\n",
    "model_path = './model.ckpt'\n",
    "model = Classifier().to(device)\n",
    "\n",
    "criterion = nn.CrossEntropyLoss()\n",
    "optimizer = torch.optim.Adam(model.parameters(), lr = learning_rate)"
   ]
  },
  {
   "cell_type": "code",
   "execution_count": 12,
   "metadata": {},
   "outputs": [
    {
     "name": "stdout",
     "output_type": "stream",
     "text": [
      "[001/020] Train Acc: 0.594404 Loss: 1.330668 | Val Acc: 0.628684 loss: 1.211098\n",
      "saving model with acc 0.629\n",
      "[002/020] Train Acc: 0.644521 Loss: 1.154068 | Val Acc: 0.660368 loss: 1.101225\n",
      "saving model with acc 0.660\n",
      "[003/020] Train Acc: 0.672215 Loss: 1.052250 | Val Acc: 0.676324 loss: 1.038720\n",
      "saving model with acc 0.676\n",
      "[004/020] Train Acc: 0.691372 Loss: 0.983106 | Val Acc: 0.685203 loss: 1.001854\n",
      "saving model with acc 0.685\n",
      "[005/020] Train Acc: 0.705591 Loss: 0.931955 | Val Acc: 0.689329 loss: 0.984168\n",
      "saving model with acc 0.689\n",
      "[006/020] Train Acc: 0.716346 Loss: 0.891686 | Val Acc: 0.694541 loss: 0.964626\n",
      "saving model with acc 0.695\n",
      "[007/020] Train Acc: 0.725897 Loss: 0.857904 | Val Acc: 0.697712 loss: 0.951916\n",
      "saving model with acc 0.698\n",
      "[008/020] Train Acc: 0.733709 Loss: 0.829491 | Val Acc: 0.696630 loss: 0.949847\n",
      "[009/020] Train Acc: 0.741167 Loss: 0.803696 | Val Acc: 0.699382 loss: 0.944860\n",
      "saving model with acc 0.699\n",
      "[010/020] Train Acc: 0.748065 Loss: 0.781099 | Val Acc: 0.697708 loss: 0.946483\n",
      "[011/020] Train Acc: 0.753778 Loss: 0.760376 | Val Acc: 0.702826 loss: 0.938220\n",
      "saving model with acc 0.703\n",
      "[012/020] Train Acc: 0.759403 Loss: 0.741228 | Val Acc: 0.700484 loss: 0.945660\n",
      "[013/020] Train Acc: 0.764561 Loss: 0.723566 | Val Acc: 0.702167 loss: 0.942149\n",
      "[014/020] Train Acc: 0.769459 Loss: 0.707320 | Val Acc: 0.704448 loss: 0.936147\n",
      "saving model with acc 0.704\n",
      "[015/020] Train Acc: 0.773728 Loss: 0.691310 | Val Acc: 0.701757 loss: 0.945723\n",
      "[016/020] Train Acc: 0.778684 Loss: 0.676628 | Val Acc: 0.701590 loss: 0.953091\n",
      "[017/020] Train Acc: 0.783080 Loss: 0.662422 | Val Acc: 0.699557 loss: 0.963322\n",
      "[018/020] Train Acc: 0.786379 Loss: 0.649173 | Val Acc: 0.700126 loss: 0.957704\n",
      "[019/020] Train Acc: 0.790629 Loss: 0.636615 | Val Acc: 0.699744 loss: 0.964282\n",
      "[020/020] Train Acc: 0.794658 Loss: 0.623683 | Val Acc: 0.694809 loss: 0.981693\n"
     ]
    }
   ],
   "source": [
    "best_acc = 0.0\n",
    "\n",
    "for epoch in range(num_epochs):\n",
    "    train_loss = 0.0\n",
    "    train_acc = 0.0\n",
    "    val_loss = 0.0\n",
    "    val_acc = 0.0\n",
    "    \n",
    "    model.train()\n",
    "    for i, data in enumerate(train_loader):\n",
    "        inputs, labels = data\n",
    "        inputs, labels = inputs.to(device), labels.to(device)\n",
    "        optimizer.zero_grad()\n",
    "        outputs = model(inputs)\n",
    "        loss = criterion(outputs, labels)\n",
    "        _, preds = torch.max(outputs, 1)\n",
    "        loss.backward()\n",
    "        optimizer.step()\n",
    "        \n",
    "        train_loss += loss.item()\n",
    "        train_acc += (preds.cpu() == labels.cpu()).sum().item()\n",
    "    \n",
    "    if len(val_set) > 0:\n",
    "        model.eval()\n",
    "        \n",
    "        with torch.no_grad():\n",
    "            for i, data in enumerate(val_loader):\n",
    "                inputs, labels = data\n",
    "                inputs, labels = inputs.to(device), labels.to(device)\n",
    "                outputs = model(inputs)\n",
    "                loss = criterion(outputs, labels)\n",
    "                _, preds = torch.max(outputs, 1)\n",
    "                \n",
    "                val_loss += loss.item()\n",
    "                val_acc += (preds.cpu() == labels.cpu()).sum().item()\n",
    "            \n",
    "            print('[{:03d}/{:03d}] Train Acc: {:3.6f} Loss: {:3.6f} | Val Acc: {:3.6f} loss: {:3.6f}'.format(\n",
    "                 epoch + 1, num_epochs, train_acc / len(train_set), train_loss / len(train_loader), val_acc / len(val_set), val_loss / len(val_loader)\n",
    "             ))\n",
    "        \n",
    "            if val_acc > best_acc:\n",
    "                best_acc = val_acc\n",
    "                torch.save(model.state_dict(), model_path)\n",
    "                print('saving model with acc {:.3f}'.format(best_acc / len(val_set)))\n",
    "    else:\n",
    "        print('[{:03d}/{:03d}] Train Acc: {:3.6f} Loss: {:3.6f}'.format(\n",
    "            epoch + 1, num_epochs, train_acc / len(train_set), train_loss / len(train_loader)\n",
    "        ))\n",
    "        \n",
    "if len(val_set) == 0:\n",
    "    torch.save(model.state_dict(), model_path)\n",
    "    print('saving model at last epoch')"
   ]
  },
  {
   "cell_type": "code",
   "execution_count": 14,
   "metadata": {},
   "outputs": [
    {
     "data": {
      "text/plain": [
       "<All keys matched successfully>"
      ]
     },
     "execution_count": 14,
     "metadata": {},
     "output_type": "execute_result"
    }
   ],
   "source": [
    "test_set = TIMITDataset(test)\n",
    "test_loader = DataLoader(test_set, batch_size = BATCH_SIZE, shuffle = False)\n",
    "\n",
    "model = Classifier().to(device)\n",
    "model.load_state_dict(torch.load(model_path))"
   ]
  },
  {
   "cell_type": "code",
   "execution_count": 21,
   "metadata": {
    "collapsed": true
   },
   "outputs": [],
   "source": [
    "predicts = []\n",
    "\n",
    "model.eval()\n",
    "with torch.no_grad():\n",
    "    for i, data in enumerate(test_loader):\n",
    "        inputs = data.to(device)\n",
    "        ouputs = model(inputs)\n",
    "        _, test_preds = torch.max(outputs, 1)\n",
    "        \n",
    "        for y in test_preds.cpu().numpy():\n",
    "            predicts.append(y)"
   ]
  },
  {
   "cell_type": "code",
   "execution_count": 18,
   "metadata": {
    "collapsed": true
   },
   "outputs": [],
   "source": [
    "with open('prediction.csv', 'w') as f:\n",
    "    f.write('Id,Class\\n')\n",
    "    for i, p in enumerate(predicts):\n",
    "        f.write('{},{}\\n'.format(i, p))"
   ]
  },
  {
   "cell_type": "code",
   "execution_count": 23,
   "metadata": {},
   "outputs": [
    {
     "ename": "NameError",
     "evalue": "name 'predict' is not defined",
     "output_type": "error",
     "traceback": [
      "\u001b[1;31m---------------------------------------------------------------------------\u001b[0m",
      "\u001b[1;31mNameError\u001b[0m                                 Traceback (most recent call last)",
      "\u001b[1;32m<ipython-input-23-6fcace678e21>\u001b[0m in \u001b[0;36m<module>\u001b[1;34m\u001b[0m\n\u001b[1;32m----> 1\u001b[1;33m \u001b[0mlen\u001b[0m\u001b[1;33m(\u001b[0m\u001b[0mpredict\u001b[0m\u001b[1;33m)\u001b[0m\u001b[1;33m\u001b[0m\u001b[1;33m\u001b[0m\u001b[0m\n\u001b[0m",
      "\u001b[1;31mNameError\u001b[0m: name 'predict' is not defined"
     ]
    }
   ],
   "source": [
    "len(predict)"
   ]
  }
 ],
 "metadata": {
  "kernelspec": {
   "display_name": "Python [conda env:pytorch]",
   "language": "python",
   "name": "conda-env-pytorch-py"
  },
  "language_info": {
   "codemirror_mode": {
    "name": "ipython",
    "version": 3
   },
   "file_extension": ".py",
   "mimetype": "text/x-python",
   "name": "python",
   "nbconvert_exporter": "python",
   "pygments_lexer": "ipython3",
   "version": "3.6.13"
  }
 },
 "nbformat": 4,
 "nbformat_minor": 2
}
