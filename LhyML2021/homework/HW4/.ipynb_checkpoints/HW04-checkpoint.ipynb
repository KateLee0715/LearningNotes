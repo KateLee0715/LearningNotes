{
 "cells": [
  {
   "cell_type": "code",
   "execution_count": 16,
   "metadata": {},
   "outputs": [],
   "source": [
    "import os\n",
    "import json\n",
    "import torch\n",
    "import random\n",
    "from pathlib import Path\n",
    "from torch.utils.data import Dataset\n",
    "from torch.nn.utils.rnn import pad_sequence\n",
    "\n",
    "class myDataset(Dataset):\n",
    "    def __init__(self, data_dir, segment_len = 128):\n",
    "        self.data_dir = data_dir\n",
    "        self.segment_len = segment_len\n",
    "        \n",
    "        mapping_path = Path(data_dir) / 'mapping.json'\n",
    "        mapping = json.load(mapping_path.open())\n",
    "        self.speaker2id = mapping['speaker2id']\n",
    "        \n",
    "        meta_path = Path(data_dir) / 'metadata.json'\n",
    "        metadata = json.load(open(meta_path))\n",
    "        speakers = metadata['speakers']\n",
    "        self.speaker_num = len(speakers.keys())\n",
    "        \n",
    "        self.data = []\n",
    "        \n",
    "        for speaker in speakers.keys():\n",
    "            for utterances in speakers[speaker]:\n",
    "                feature_path = utterances['feature_path']\n",
    "                self.data.append([feature_path, self.speaker2id[speaker]])\n",
    "    \n",
    "    def __len__(self):\n",
    "        return len(self.data)\n",
    "    \n",
    "    def __getitem__(self, index):\n",
    "        feat_path, speaker = self.data[index]\n",
    "        mel = torch.load(os.path.join(self.data_dir, feat_path))\n",
    "        \n",
    "        if len(mel) >= self.segment_len:\n",
    "            start = random.randint(0, len(mel) - self.segment_len + 1)\n",
    "            mel = torch.FloatTensor(mel[start:start+self.segment_len])\n",
    "        else:\n",
    "            mel = torch.FloatTensor(mel)\n",
    "        \n",
    "        speaker = torch.FloatTensor([speaker]).long()\n",
    "        \n",
    "        return mel, speaker\n",
    "    \n",
    "    def get_speaker_number(self):\n",
    "        return self.speaker_num"
   ]
  },
  {
   "cell_type": "code",
   "execution_count": 27,
   "metadata": {},
   "outputs": [],
   "source": [
    "import torch\n",
    "from torch.utils.data import DataLoader, random_split\n",
    "from torch.nn.utils.rnn import pad_sequence\n",
    "\n",
    "def collate_batch(batch):\n",
    "    mel, speaker = zip(*batch)\n",
    "    mel = pad_sequence(mel, batch_first = True, padding_value = -20)\n",
    "    return mel, torch.FloatTensor(speaker).long()\n",
    "\n",
    "def get_dataloader(data_dir, batch_size, n_workers):\n",
    "    dataset = myDataset(data_dir)\n",
    "    speaker_num = dataset.get_speaker_number()\n",
    "    trainlen = int(0.9 * len(dataset))\n",
    "    length = [trainlen, len(dataset) - trainlen]\n",
    "    trainset, validset = random_split(dataset, length)\n",
    "    \n",
    "    train_loader = DataLoader(\n",
    "        trainset,\n",
    "        batch_size = batch_size,\n",
    "        shuffle = True,\n",
    "        drop_last = True,\n",
    "        num_workers = n_workers,\n",
    "        pin_memory = True,\n",
    "        collate_fn = collate_batch\n",
    "    )\n",
    "    \n",
    "    valid_loader = DataLoader(\n",
    "        validset,\n",
    "        batch_size = batch_size,\n",
    "        shuffle = False,\n",
    "        drop_last = True,\n",
    "        num_workers = n_workers,\n",
    "        pin_memory = True,\n",
    "        collate_fn = collate_batch\n",
    "    )\n",
    "    \n",
    "    return train_loader, valid_loader, speaker_num"
   ]
  },
  {
   "cell_type": "code",
   "execution_count": 18,
   "metadata": {},
   "outputs": [],
   "source": [
    "import torch\n",
    "import torch.nn as nn\n",
    "import torch.nn.functional as F\n",
    "\n",
    "class Classifier(nn.Module):\n",
    "    def __init__(self, d_model = 80, n_spks = 600, dropout = 0.1):\n",
    "        super(Classifier, self).__init__()\n",
    "        \n",
    "        self.prenet = nn.Linear(40, d_model)\n",
    "        self.encoder_layer = nn.TransformerEncoderLayer(\n",
    "            d_model = d_model, dim_feedforward = 256, nhead = 2\n",
    "        )\n",
    "        self.pred_layer = nn.Sequential(\n",
    "            nn.Linear(d_model, d_model),\n",
    "            nn.ReLU(),\n",
    "            nn.Linear(d_model, n_spks)\n",
    "        )\n",
    "    \n",
    "    def forward(self, mels):\n",
    "        out = self.prenet(mels)\n",
    "        out = out.permute(1, 0, 2)\n",
    "        out = self.encoder_layer(out)\n",
    "        out = out.transpose(0, 1)\n",
    "        stats = out.mean(dim = 1)\n",
    "        out = self.pred_layer(stats)\n",
    "        return out"
   ]
  },
  {
   "cell_type": "code",
   "execution_count": 19,
   "metadata": {},
   "outputs": [],
   "source": [
    "import math\n",
    "import torch\n",
    "from torch.optim import Optimizer\n",
    "from torch.optim.lr_scheduler import LambdaLR\n",
    "\n",
    "def get_cosine_schedule_with_warmup(\n",
    "    optimizer: Optimizer,\n",
    "    num_warmup_steps: int,\n",
    "    num_training_steps: int,\n",
    "    num_cycles: float = 0.5,\n",
    "    last_epoch: int = -1\n",
    "):\n",
    "    \n",
    "    def lr_lambda(current_step):\n",
    "        if current_step < num_warmup_steps:\n",
    "            return float(current_step) / float(max(1, num_warmup_steps))\n",
    "        else:\n",
    "            progress = float(current_step - num_warmup_steps) / float(max(1, num_training_steps - num_warmup_steps))\n",
    "            return max(0.0, 0.5 * (1.0 + math.cos(math.pi * 2.0 * float(num_cycles) * progress)))\n",
    "    \n",
    "    return LambdaLR(optimizer, lr_lambda, last_epoch)"
   ]
  },
  {
   "cell_type": "code",
   "execution_count": 20,
   "metadata": {},
   "outputs": [],
   "source": [
    "import torch\n",
    "\n",
    "def model_fn(batch, model, criterion, device):\n",
    "    mels, labels = batch\n",
    "    mels, labels = mels.to(device), labels.to(device)\n",
    "    outs = model(mels)\n",
    "    \n",
    "    loss = criterion(outs, labels)\n",
    "    preds = outs.argmax(1)\n",
    "    \n",
    "    accuracy = (preds.cpu() == labels.cpu()).float().mean()\n",
    "    \n",
    "    return loss, accuracy"
   ]
  },
  {
   "cell_type": "code",
   "execution_count": 21,
   "metadata": {},
   "outputs": [],
   "source": [
    "import torch\n",
    "from tqdm import tqdm\n",
    "\n",
    "def valid(dataloader, model, criterion, device):\n",
    "    model.eval()\n",
    "    pbar = tqdm(total = len(dataloader.dataset), ncols = 0, desc = 'Valid', unit = 'uttr')\n",
    "    running_loss = 0.0\n",
    "    running_acc = 0.0\n",
    "    \n",
    "    for i, batch in enumerate(dataloader):\n",
    "        with torch.no_grad():\n",
    "            loss, accuracy = model_fn(batch, model, criterion, device)\n",
    "        running_loss += loss.item()\n",
    "        running_acc += accuracy.item()\n",
    "        \n",
    "        pbar.update(dataloader.batch_size)\n",
    "        pbar.set_postfix(\n",
    "            loss = f\"{running_loss / (i + 1):.2f}\",\n",
    "            accuracy = f\"{running_acc / (i + 1):.2f}\"\n",
    "        )\n",
    "    \n",
    "    pbar.close()\n",
    "    model.train()\n",
    "    return running_acc / len(dataloader)"
   ]
  },
  {
   "cell_type": "code",
   "execution_count": 22,
   "metadata": {},
   "outputs": [],
   "source": [
    "def parse_args():\n",
    "    config = {\n",
    "        'data_dir': './Dataset',\n",
    "        'model_path': 'model.ckpt',\n",
    "        'batch_size': 32,\n",
    "        'n_workers': 0,\n",
    "        'valid_steps': 2000,\n",
    "        'warmup_steps': 1000,\n",
    "        'save_steps': 10000,\n",
    "        'total_steps': 70000,\n",
    "    }\n",
    "    \n",
    "    return config"
   ]
  },
  {
   "cell_type": "code",
   "execution_count": 23,
   "metadata": {},
   "outputs": [],
   "source": [
    "from tqdm import tqdm\n",
    "\n",
    "import torch\n",
    "import torch.nn as nn\n",
    "from torch.optim import AdamW\n",
    "from torch.utils.data import DataLoader, random_split\n",
    "\n",
    "def main(data_dir, model_path, batch_size, n_workers, valid_steps, warmup_steps, save_steps, total_steps):\n",
    "    device = torch.device('cuda' if torch.cuda.is_available() else 'cpu')\n",
    "    print(f\"[Info]: Use {device} now!\")\n",
    "    \n",
    "    pbar = tqdm(total = valid_steps, ncols = 0, desc = 'Train', unit = 'step')\n",
    "    \n",
    "    train_loader, valid_loader, speaker_num = get_dataloader(data_dir, batch_size, n_workers)\n",
    "    train_iterator = iter(train_loader)\n",
    "    print(f\"[Info]: Finish loading data!\",flush = True)\n",
    "    \n",
    "    model = Classifier(n_spks = speaker_num).to(device)\n",
    "    criterion = nn.CrossEntropyLoss()\n",
    "    optimizer = AdamW(model.parameters(), lr = 1e-3)\n",
    "    scheduler = get_cosine_schedule_with_warmup(optimizer, warmup_steps, total_steps)\n",
    "    print(f\"[Info]: Finish creating model!\",flush = True)\n",
    "    \n",
    "    best_accuracy = 0.0\n",
    "    best_state_dict = None\n",
    "    \n",
    "    model.train()\n",
    "    for step in range(total_steps):\n",
    "        try:\n",
    "            batch = next(train_iterator)\n",
    "        except StopIteration:\n",
    "            train_iterator = iter(train_loader)\n",
    "            batch = next(train_iterator)\n",
    "        \n",
    "        optimizer.zero_grad()\n",
    "        loss, accuracy = model_fn(batch, model, criterion, device)\n",
    "        \n",
    "        loss.backward()\n",
    "        optimizer.step()\n",
    "        scheduler.step()\n",
    "        \n",
    "        pbar.update()\n",
    "        pbar.set_postfix(\n",
    "            loss = f\"{loss.item():.2f}\",\n",
    "            accuracy = f\"{accuracy.item():.2f}\",\n",
    "            step = step + 1,\n",
    "        )\n",
    "        \n",
    "        if (step + 1) % valid_steps == 0:\n",
    "            pbar.close()\n",
    "            valid_accuracy = valid(valid_loader, model, criterion, device)\n",
    "            \n",
    "            if valid_accuracy > best_accuracy:\n",
    "                best_accuracy = valid_accuracy\n",
    "                best_state_dict = model.state_dict()\n",
    "            \n",
    "            pbar = tqdm(total = valid_steps, ncols = 0, desc = 'Train', unit = 'step')\n",
    "        \n",
    "        if (step + 1) % save_steps == 0 and best_state_dict is not None:\n",
    "            torch.save(best_state_dict, model_path)\n",
    "            pbar.write(f\"Step {step + 1}, best model saved. (accuracy={best_accuracy:.4f})\")\n",
    "    \n",
    "    pbar.close()"
   ]
  },
  {
   "cell_type": "code",
   "execution_count": 28,
   "metadata": {},
   "outputs": [
    {
     "name": "stdout",
     "output_type": "stream",
     "text": [
      "[Info]: Use cuda now!\n"
     ]
    },
    {
     "name": "stderr",
     "output_type": "stream",
     "text": [
      "Train:   0% 0/2000 [01:47<?, ?step/s]"
     ]
    },
    {
     "name": "stdout",
     "output_type": "stream",
     "text": [
      "[Info]: Finish loading data!\n",
      "[Info]: Finish creating model!\n"
     ]
    },
    {
     "name": "stderr",
     "output_type": "stream",
     "text": [
      "\n",
      "Train: 100% 2000/2000 [01:06<00:00, 30.08step/s, accuracy=0.31, loss=3.46, step=2000]\n",
      "Valid: 100% 6944/6944 [00:05<00:00, 1265.58uttr/s, accuracy=0.20, loss=3.95]\n",
      "Train: 100% 2000/2000 [00:41<00:00, 47.86step/s, accuracy=0.25, loss=3.26, step=4000]\n",
      "Valid: 100% 6944/6944 [00:04<00:00, 1389.65uttr/s, accuracy=0.30, loss=3.25]\n",
      "Train: 100% 2000/2000 [00:41<00:00, 48.24step/s, accuracy=0.47, loss=3.36, step=6000]\n",
      "Valid: 100% 6944/6944 [00:03<00:00, 1757.07uttr/s, accuracy=0.36, loss=2.92]\n",
      "Train: 100% 2000/2000 [00:35<00:00, 55.99step/s, accuracy=0.28, loss=3.06, step=8000]\n",
      "Valid: 100% 6944/6944 [00:02<00:00, 2681.94uttr/s, accuracy=0.40, loss=2.69]\n",
      "Train: 100% 2000/2000 [00:34<00:00, 57.80step/s, accuracy=0.62, loss=1.82, step=1e+4]\n",
      "Valid: 100% 6944/6944 [00:02<00:00, 2653.05uttr/s, accuracy=0.44, loss=2.54]\n",
      "                                     \n",
      "\n",
      "Train:   0% 0/2000 [00:00<?, ?step/s]\n",
      "\n",
      "Train:   1% 11/2000 [00:00<00:36, 54.69step/s, accuracy=0.34, loss=2.88, step=1e+4]"
     ]
    },
    {
     "name": "stdout",
     "output_type": "stream",
     "text": [
      "Step 10000, best model saved. (accuracy=0.4359)\n"
     ]
    },
    {
     "name": "stderr",
     "output_type": "stream",
     "text": [
      "Train: 100% 2000/2000 [00:35<00:00, 56.99step/s, accuracy=0.38, loss=2.73, step=12000]\n",
      "Valid: 100% 6944/6944 [00:02<00:00, 2634.35uttr/s, accuracy=0.45, loss=2.46]\n",
      "Train: 100% 2000/2000 [00:34<00:00, 57.57step/s, accuracy=0.50, loss=2.10, step=14000]\n",
      "Valid: 100% 6944/6944 [00:02<00:00, 2651.18uttr/s, accuracy=0.48, loss=2.31]\n",
      "Train: 100% 2000/2000 [00:35<00:00, 56.90step/s, accuracy=0.50, loss=2.47, step=16000]\n",
      "Valid: 100% 6944/6944 [00:02<00:00, 2666.68uttr/s, accuracy=0.50, loss=2.21]\n",
      "Train: 100% 2000/2000 [00:34<00:00, 57.42step/s, accuracy=0.53, loss=2.39, step=18000]\n",
      "Valid: 100% 6944/6944 [00:02<00:00, 2548.42uttr/s, accuracy=0.51, loss=2.19]\n",
      "Train: 100% 2000/2000 [00:35<00:00, 55.67step/s, accuracy=0.47, loss=2.54, step=2e+4] \n",
      "Valid: 100% 6944/6944 [00:02<00:00, 2623.94uttr/s, accuracy=0.53, loss=2.09]\n",
      "                                     \n",
      "\n",
      "Train:   0% 0/2000 [00:00<?, ?step/s]\n",
      "\n",
      "Train:   0% 10/2000 [00:00<00:36, 54.66step/s, accuracy=0.53, loss=2.46, step=2e+4]"
     ]
    },
    {
     "name": "stdout",
     "output_type": "stream",
     "text": [
      "Step 20000, best model saved. (accuracy=0.5252)\n"
     ]
    },
    {
     "name": "stderr",
     "output_type": "stream",
     "text": [
      "Train: 100% 2000/2000 [00:35<00:00, 56.32step/s, accuracy=0.66, loss=1.36, step=22000]\n",
      "Valid: 100% 6944/6944 [00:02<00:00, 2634.59uttr/s, accuracy=0.52, loss=2.08]\n",
      "Train: 100% 2000/2000 [00:35<00:00, 55.71step/s, accuracy=0.59, loss=1.67, step=24000]\n",
      "Valid: 100% 6944/6944 [00:02<00:00, 2564.57uttr/s, accuracy=0.55, loss=1.96]\n",
      "Train: 100% 2000/2000 [00:35<00:00, 56.95step/s, accuracy=0.59, loss=1.71, step=26000]\n",
      "Valid: 100% 6944/6944 [00:02<00:00, 2651.62uttr/s, accuracy=0.55, loss=1.93]\n",
      "Train: 100% 2000/2000 [00:35<00:00, 56.72step/s, accuracy=0.53, loss=2.23, step=28000]\n",
      "Valid: 100% 6944/6944 [00:02<00:00, 2619.18uttr/s, accuracy=0.57, loss=1.88]\n",
      "Train: 100% 2000/2000 [00:34<00:00, 57.20step/s, accuracy=0.50, loss=2.05, step=3e+4] \n",
      "Valid: 100% 6944/6944 [00:02<00:00, 2558.59uttr/s, accuracy=0.57, loss=1.85]\n",
      "                                     \n",
      "\n",
      "Train:   0% 0/2000 [00:00<?, ?step/s]\n",
      "\n",
      "Train:   0% 10/2000 [00:00<00:36, 54.66step/s, accuracy=0.56, loss=1.88, step=3e+4]"
     ]
    },
    {
     "name": "stdout",
     "output_type": "stream",
     "text": [
      "Step 30000, best model saved. (accuracy=0.5730)\n"
     ]
    },
    {
     "name": "stderr",
     "output_type": "stream",
     "text": [
      "Train: 100% 2000/2000 [00:35<00:00, 56.55step/s, accuracy=0.53, loss=1.55, step=32000]\n",
      "Valid: 100% 6944/6944 [00:02<00:00, 2655.08uttr/s, accuracy=0.58, loss=1.82]\n",
      "Train: 100% 2000/2000 [00:35<00:00, 56.87step/s, accuracy=0.59, loss=1.52, step=34000]\n",
      "Valid: 100% 6944/6944 [00:02<00:00, 2611.17uttr/s, accuracy=0.60, loss=1.76]\n",
      "Train: 100% 2000/2000 [00:35<00:00, 55.70step/s, accuracy=0.59, loss=2.00, step=36000]\n",
      "Valid: 100% 6944/6944 [00:02<00:00, 2625.93uttr/s, accuracy=0.59, loss=1.73]\n",
      "Train: 100% 2000/2000 [00:35<00:00, 56.06step/s, accuracy=0.56, loss=1.68, step=38000]\n",
      "Valid: 100% 6944/6944 [00:02<00:00, 2618.89uttr/s, accuracy=0.62, loss=1.63]\n",
      "Train: 100% 2000/2000 [00:36<00:00, 55.20step/s, accuracy=0.50, loss=2.15, step=4e+4] \n",
      "Valid: 100% 6944/6944 [00:02<00:00, 2526.36uttr/s, accuracy=0.62, loss=1.63]\n",
      "                                     \n",
      "\n",
      "Train:   0% 0/2000 [00:00<?, ?step/s]\n",
      "\n",
      "Train:   0% 10/2000 [00:00<00:41, 48.07step/s, accuracy=0.66, loss=0.95, step=4e+4]"
     ]
    },
    {
     "name": "stdout",
     "output_type": "stream",
     "text": [
      "Step 40000, best model saved. (accuracy=0.6192)\n"
     ]
    },
    {
     "name": "stderr",
     "output_type": "stream",
     "text": [
      "Train: 100% 2000/2000 [00:35<00:00, 56.16step/s, accuracy=0.72, loss=1.00, step=42000]\n",
      "Valid: 100% 6944/6944 [00:02<00:00, 2575.53uttr/s, accuracy=0.62, loss=1.60]\n",
      "Train: 100% 2000/2000 [00:35<00:00, 55.66step/s, accuracy=0.69, loss=1.22, step=44000]\n",
      "Valid: 100% 6944/6944 [00:02<00:00, 2589.27uttr/s, accuracy=0.64, loss=1.53]\n",
      "Train: 100% 2000/2000 [00:35<00:00, 56.16step/s, accuracy=0.53, loss=1.82, step=46000]\n",
      "Valid: 100% 6944/6944 [00:02<00:00, 2602.79uttr/s, accuracy=0.64, loss=1.54]\n",
      "Train: 100% 2000/2000 [00:36<00:00, 55.32step/s, accuracy=0.62, loss=1.58, step=48000]\n",
      "Valid: 100% 6944/6944 [00:02<00:00, 2593.12uttr/s, accuracy=0.65, loss=1.49]\n",
      "Train: 100% 2000/2000 [00:35<00:00, 55.99step/s, accuracy=0.59, loss=1.57, step=5e+4] \n",
      "Valid: 100% 6944/6944 [00:02<00:00, 2587.60uttr/s, accuracy=0.65, loss=1.49]\n",
      "                                     \n",
      "\n",
      "Train:   0% 0/2000 [00:00<?, ?step/s]\n",
      "\n",
      "Train:   1% 11/2000 [00:00<00:36, 54.66step/s, accuracy=0.72, loss=1.22, step=5e+4]"
     ]
    },
    {
     "name": "stdout",
     "output_type": "stream",
     "text": [
      "Step 50000, best model saved. (accuracy=0.6547)\n"
     ]
    },
    {
     "name": "stderr",
     "output_type": "stream",
     "text": [
      "Train: 100% 2000/2000 [00:35<00:00, 56.66step/s, accuracy=0.72, loss=0.99, step=52000]\n",
      "Valid: 100% 6944/6944 [00:02<00:00, 2600.92uttr/s, accuracy=0.66, loss=1.46]\n",
      "Train: 100% 2000/2000 [00:35<00:00, 56.22step/s, accuracy=0.66, loss=1.41, step=54000]\n",
      "Valid: 100% 6944/6944 [00:02<00:00, 2588.81uttr/s, accuracy=0.67, loss=1.43]\n",
      "Train: 100% 2000/2000 [00:35<00:00, 55.87step/s, accuracy=0.75, loss=1.18, step=56000]\n",
      "Valid: 100% 6944/6944 [00:02<00:00, 2598.69uttr/s, accuracy=0.66, loss=1.43]\n",
      "Train: 100% 2000/2000 [00:35<00:00, 56.21step/s, accuracy=0.78, loss=0.73, step=58000]\n",
      "Valid: 100% 6944/6944 [00:02<00:00, 2586.69uttr/s, accuracy=0.67, loss=1.43]\n",
      "Train: 100% 2000/2000 [00:36<00:00, 54.39step/s, accuracy=0.69, loss=1.15, step=6e+4] \n",
      "Valid: 100% 6944/6944 [00:02<00:00, 2508.63uttr/s, accuracy=0.68, loss=1.38]\n",
      "                                     \n",
      "\n",
      "Train:   0% 0/2000 [00:00<?, ?step/s]\n",
      "\n",
      "Train:   0% 10/2000 [00:00<00:43, 45.55step/s, accuracy=0.75, loss=0.88, step=6e+4]"
     ]
    },
    {
     "name": "stdout",
     "output_type": "stream",
     "text": [
      "Step 60000, best model saved. (accuracy=0.6779)\n"
     ]
    },
    {
     "name": "stderr",
     "output_type": "stream",
     "text": [
      "Train: 100% 2000/2000 [00:36<00:00, 54.08step/s, accuracy=0.59, loss=1.38, step=62000]\n",
      "Valid: 100% 6944/6944 [00:02<00:00, 2503.40uttr/s, accuracy=0.67, loss=1.39]\n",
      "Train: 100% 2000/2000 [00:36<00:00, 54.43step/s, accuracy=0.66, loss=1.42, step=64000]\n",
      "Valid: 100% 6944/6944 [00:02<00:00, 2514.68uttr/s, accuracy=0.68, loss=1.37]\n",
      "Train: 100% 2000/2000 [00:36<00:00, 54.50step/s, accuracy=0.81, loss=0.86, step=66000]\n",
      "Valid: 100% 6944/6944 [00:02<00:00, 2529.61uttr/s, accuracy=0.68, loss=1.39]\n",
      "Train: 100% 2000/2000 [00:36<00:00, 54.83step/s, accuracy=0.81, loss=0.89, step=68000]\n",
      "Valid: 100% 6944/6944 [00:02<00:00, 2486.00uttr/s, accuracy=0.68, loss=1.37]\n",
      "Train: 100% 2000/2000 [00:36<00:00, 54.67step/s, accuracy=0.66, loss=1.34, step=7e+4] \n",
      "Valid: 100% 6944/6944 [00:02<00:00, 2514.71uttr/s, accuracy=0.68, loss=1.37]\n",
      "                                     \n",
      "\n",
      "Train:   0% 0/2000 [00:00<?, ?step/s]\n",
      "\n",
      "Train:   0% 0/2000 [00:00<?, ?step/s]\u001b[A\u001b[A\n"
     ]
    },
    {
     "name": "stdout",
     "output_type": "stream",
     "text": [
      "Step 70000, best model saved. (accuracy=0.6835)\n"
     ]
    }
   ],
   "source": [
    "if __name__ == '__main__':\n",
    "    main(**parse_args())"
   ]
  },
  {
   "cell_type": "code",
   "execution_count": 30,
   "metadata": {},
   "outputs": [],
   "source": [
    "import os\n",
    "import torch\n",
    "import json\n",
    "from pathlib import Path\n",
    "from torch.utils.data import Dataset\n",
    "\n",
    "class InferenceDataset(Dataset):\n",
    "    def __init__(self, data_dir):\n",
    "        test_path = Path(data_dir) / \"testdata.json\"\n",
    "        testdata = json.load(test_path.open())\n",
    "        self.data_dir = data_dir\n",
    "        self.data = testdata['utterances']\n",
    "    \n",
    "    def __len__(self):\n",
    "        return len(self.data)\n",
    "    \n",
    "    def __getitem__(self, index):\n",
    "        feat_path = self.data[index]['feature_path']\n",
    "        mel = torch.load(os.path.join(self.data_dir, feat_path))\n",
    "        return feat_path, mel"
   ]
  },
  {
   "cell_type": "code",
   "execution_count": 31,
   "metadata": {},
   "outputs": [],
   "source": [
    "def inference_collate_batch(batch):\n",
    "    feat_paths, mels = zip(*batch)\n",
    "    return feat_paths, torch.stack(mels)"
   ]
  },
  {
   "cell_type": "code",
   "execution_count": 32,
   "metadata": {},
   "outputs": [],
   "source": [
    "def parse_inference_args():\n",
    "    config = {\n",
    "        'data_dir': './Dataset',\n",
    "        'model_path': './model.ckpt',\n",
    "        'output_path': './output.csv',\n",
    "    }\n",
    "    return config"
   ]
  },
  {
   "cell_type": "code",
   "execution_count": 33,
   "metadata": {},
   "outputs": [],
   "source": [
    "import torch\n",
    "import csv\n",
    "import json\n",
    "from tqdm.notebook import tqdm\n",
    "from pathlib import Path\n",
    "from torch.utils.data import DataLoader\n",
    "\n",
    "def inference_main(data_dir, model_path, output_path):\n",
    "    "
   ]
  },
  {
   "cell_type": "code",
   "execution_count": null,
   "metadata": {},
   "outputs": [],
   "source": []
  }
 ],
 "metadata": {
  "kernelspec": {
   "display_name": "pytorch",
   "language": "python",
   "name": "pytorch"
  },
  "language_info": {
   "codemirror_mode": {
    "name": "ipython",
    "version": 3
   },
   "file_extension": ".py",
   "mimetype": "text/x-python",
   "name": "python",
   "nbconvert_exporter": "python",
   "pygments_lexer": "ipython3",
   "version": "3.6.13"
  }
 },
 "nbformat": 4,
 "nbformat_minor": 4
}
